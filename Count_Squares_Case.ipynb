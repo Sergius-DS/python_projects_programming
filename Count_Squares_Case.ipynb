{
  "nbformat": 4,
  "nbformat_minor": 0,
  "metadata": {
    "colab": {
      "provenance": [],
      "authorship_tag": "ABX9TyMmWxgLq7GOj74AJjPcGjhj",
      "include_colab_link": true
    },
    "kernelspec": {
      "name": "python3",
      "display_name": "Python 3"
    },
    "language_info": {
      "name": "python"
    }
  },
  "cells": [
    {
      "cell_type": "markdown",
      "metadata": {
        "id": "view-in-github",
        "colab_type": "text"
      },
      "source": [
        "<a href=\"https://colab.research.google.com/github/Sergius-DS/python_projects_programming/blob/main/Count_Squares_Case.ipynb\" target=\"_parent\"><img src=\"https://colab.research.google.com/assets/colab-badge.svg\" alt=\"Open In Colab\"/></a>"
      ]
    },
    {
      "cell_type": "code",
      "execution_count": 2,
      "metadata": {
        "colab": {
          "base_uri": "https://localhost:8080/"
        },
        "id": "3mgpIa0oBQyQ",
        "outputId": "282cf524-5e92-458a-ea6a-3cd341a1d1b0"
      },
      "outputs": [
        {
          "output_type": "stream",
          "name": "stdout",
          "text": [
            "5\n"
          ]
        }
      ],
      "source": [
        "class Solution24:\n",
        "  def count_squares(self, matrix: list[list[int]]) -> int:\n",
        "    n = len(matrix)\n",
        "    m = len(matrix[0])\n",
        "    ansmatrix = [[0]*(m+1) for _ in range(n+1)]\n",
        "    count = 0\n",
        "    for row in range(1, n+1):\n",
        "      for col in range(1, m+1):\n",
        "        if matrix[row - 1][col -1] == 1:\n",
        "          ansmatrix[row][col] = 1 + min(ansmatrix[row][col -1], ansmatrix[row - 1][col], ansmatrix[row - 1][col - 1])\n",
        "          count += ansmatrix[row][col]\n",
        "          #print(count)\n",
        "\n",
        "    return count\n",
        "\n",
        "try24 = Solution24()\n",
        "#print(try24.count_squares([[0,1,1,1],[1,1,1,1],[0,1,1,1]]))Result = 15\n",
        "print(try24.count_squares([[1,1],[1,1]]))# Result = 5"
      ]
    },
    {
      "cell_type": "code",
      "source": [
        "\"\"\"\n",
        "Understanding the Code's Logic\n",
        "\n",
        "The code aims to find the total count of squares in a binary matrix.\n",
        "It uses a dynamic programming approach where ansmatrix[i][j] stores the size of the largest square submatrix with its bottom-right corner at matrix[i-1][j-1]\n",
        "(since the code uses 1-indexing for ansmatrix while matrix is 0-indexed as per Python's standard).\n",
        "\n",
        "Detailed Explanation Using Your Example\n",
        "\n",
        "Let's analyze with the given example matrix:\n",
        "\n",
        "\n",
        "[[1, 1],\n",
        " [1, 1]]\n",
        "Initialization\n",
        "\n",
        "We initialize an ansmatrix with dimensions (n+1) x (m+1) where n is the number of rows and m is the number of columns in the matrix.\n",
        "Initially, all elements are set to 0. For our example, n=2 and m=2, so ansmatrix is 3x3.\n",
        "\n",
        "\n",
        "ansmatrix = [[0, 0, 0],\n",
        "             [0, 0, 0],\n",
        "             [0, 0, 0]]\n",
        "Iteration and Calculation\n",
        "\n",
        "We iterate through the matrix (using 1-based indexing for ansmatrix to match the code) and calculate the values for ansmatrix.\n",
        "\n",
        "Cell (1,1) or matrix[0][0]\n",
        "matrix[0][0] is 1.\n",
        "We look at the left, top, and diagonal top-left cells in ansmatrix: ansmatrix[1][0], ansmatrix[0][1], ansmatrix[0][0], all of which are 0.\n",
        "ansmatrix[1][1] = 1 + min(ansmatrix[1][0], ansmatrix[0][1], ansmatrix[0][0]) = 1 + min(0, 0, 0) = 1.\n",
        "ansmatrix becomes:\n",
        "\n",
        "[[0, 0, 0],\n",
        " [0, 1, 0],\n",
        " [0, 0, 0]]\n",
        "Cell (1,2) or matrix[0][1]\n",
        "matrix[0][1] is 1.\n",
        "We look at ansmatrix[1][1], ansmatrix[0][2], ansmatrix[0][1]. Since ansmatrix[0][2] is out of bounds, we ignore it (or consider it 0 as per the initialization).\n",
        "ansmatrix[1][2] = 1 + min(ansmatrix[1][1], ansmatrix[0][2], ansmatrix[0][1]) = 1 + min(1, 0, 0) = 1.\n",
        "ansmatrix becomes:\n",
        "\n",
        "[[0, 0, 0],\n",
        " [0, 1, 1],\n",
        " [0, 0, 0]]\n",
        "Cell (2,1) or matrix[1][0]\n",
        "matrix[1][0] is 1.\n",
        "We look at ansmatrix[2][0], ansmatrix[1][1], ansmatrix[1][0]. ansmatrix[2][0] is out of bounds, so we ignore it (or consider it 0).\n",
        "ansmatrix[2][1] = 1 + min(ansmatrix[2][0], ansmatrix[1][1], ansmatrix[1][0]) = 1 + min(0, 1, 0) = 1.\n",
        "ansmatrix becomes:\n",
        "\n",
        "[[0, 0, 0],\n",
        " [0, 1, 1],\n",
        " [0, 1, 0]]\n",
        "Cell (2,2) or matrix[1][1]\n",
        "matrix[1][1] is 1.\n",
        "We look at ansmatrix[2][1], ansmatrix[1][2], ansmatrix[1][1].\n",
        "ansmatrix[2][2] = 1 + min(ansmatrix[2][1], ansmatrix[1][2], ansmatrix[1][1]) = 1 + min(1, 1, 1) = 1 + 1 = 2.\n",
        "ansmatrix becomes:\n",
        "\n",
        "[[0, 0, 0],\n",
        " [0, 1, 1],\n",
        " [0, 1, 2]]\n",
        "\n",
        " OUTPUT/RESULT = 1 + 1 + 1 + 2 = 5\n",
        "\n",
        "\"\"\""
      ],
      "metadata": {
        "id": "0XTxYPmHBePY"
      },
      "execution_count": null,
      "outputs": []
    }
  ]
}