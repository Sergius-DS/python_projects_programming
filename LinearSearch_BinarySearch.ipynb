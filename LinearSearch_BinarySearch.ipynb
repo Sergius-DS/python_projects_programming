{
  "nbformat": 4,
  "nbformat_minor": 0,
  "metadata": {
    "colab": {
      "provenance": [],
      "authorship_tag": "ABX9TyNGrGXT+JC2Rn22T9n8nDsC",
      "include_colab_link": true
    },
    "kernelspec": {
      "name": "python3",
      "display_name": "Python 3"
    },
    "language_info": {
      "name": "python"
    }
  },
  "cells": [
    {
      "cell_type": "markdown",
      "metadata": {
        "id": "view-in-github",
        "colab_type": "text"
      },
      "source": [
        "<a href=\"https://colab.research.google.com/github/Sergius-DS/python_projects_programming/blob/main/LinearSearch_BinarySearch.ipynb\" target=\"_parent\"><img src=\"https://colab.research.google.com/assets/colab-badge.svg\" alt=\"Open In Colab\"/></a>"
      ]
    },
    {
      "cell_type": "code",
      "execution_count": null,
      "metadata": {
        "id": "N5a7rLd1DMYd"
      },
      "outputs": [],
      "source": [
        "# O(n) Linear Search Algorithm\n",
        "def locate_card(cards, query):\n",
        "  position = 0\n",
        "  while True:\n",
        "    if cards[position] == query:\n",
        "      return position\n",
        "    position += 1\n",
        "    if position == len(cards):\n",
        "      return -1\n",
        "try_cards = [13, 11, 10, 7, 4, 3, 1, 0]\n",
        "try_query = 7\n",
        "result = locate_card(try_cards, try_query)\n",
        "print(result)"
      ]
    },
    {
      "cell_type": "code",
      "source": [
        "# O(log n)) Binary Search\n",
        "def locate_card_bs(cards, query):\n",
        "  low = 0\n",
        "  high = len(cards) - 1\n",
        "  while low <= high:\n",
        "      mid = (low + high) // 2\n",
        "      print(f\"checking cards at index {mid}\")\n",
        "      if cards[mid] == query:\n",
        "        return mid\n",
        "      elif cards[mid] < query:\n",
        "        print(f\"Card at position {mid} is too low, moving to upper half...\")\n",
        "        low = mid + 1\n",
        "      else:\n",
        "        print(f\"Card at position {mid} is too high, moving to lower half...\")\n",
        "        high = mid - 1\n",
        "  print(\"Card not found\")\n",
        "  return -1\n",
        "\n",
        "try_cards = [13, 11, 10, 7, 4, 3, 1, 0]\n",
        "try_query = 7\n",
        "result = locate_card_bs(try_cards, try_query)\n",
        "print(result)"
      ],
      "metadata": {
        "id": "xsPXsa69DX0L"
      },
      "execution_count": null,
      "outputs": []
    }
  ]
}