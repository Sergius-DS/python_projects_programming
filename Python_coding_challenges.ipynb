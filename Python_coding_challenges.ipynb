{
  "nbformat": 4,
  "nbformat_minor": 0,
  "metadata": {
    "colab": {
      "provenance": [],
      "authorship_tag": "ABX9TyPzjqab1MHpNcKCwuJ32PB5",
      "include_colab_link": true
    },
    "kernelspec": {
      "name": "python3",
      "display_name": "Python 3"
    },
    "language_info": {
      "name": "python"
    }
  },
  "cells": [
    {
      "cell_type": "markdown",
      "metadata": {
        "id": "view-in-github",
        "colab_type": "text"
      },
      "source": [
        "<a href=\"https://colab.research.google.com/github/Sergius-DS/python_projects_programming/blob/main/Python_coding_challenges.ipynb\" target=\"_parent\"><img src=\"https://colab.research.google.com/assets/colab-badge.svg\" alt=\"Open In Colab\"/></a>"
      ]
    },
    {
      "cell_type": "markdown",
      "source": [
        "**DESCRIPCIÓN:**"
      ],
      "metadata": {
        "id": "IqAb6CdieFDV"
      }
    },
    {
      "cell_type": "markdown",
      "source": [
        "En este archivo dejo parte de lo que he practicado en Python para Desarrolador, he visto muchos tutoriales, he tomado varios cursos en DataCamp y me sigo perfeccionando en el área.\n",
        "\n",
        "I created this file with part of what I have practiced in Python for becoming a Developer, I have seen many tutorials, I have taken several courses at DataCamp and I continue to improve myself.\n"
      ],
      "metadata": {
        "id": "ysgHanZBc_2u"
      }
    },
    {
      "cell_type": "markdown",
      "source": [
        "# DATA STRUCTURES AND ALGORITHMS"
      ],
      "metadata": {
        "id": "UK2qSDEvCa9B"
      }
    },
    {
      "cell_type": "code",
      "source": [],
      "metadata": {
        "id": "-xG9itUNVU0m"
      },
      "execution_count": null,
      "outputs": []
    },
    {
      "cell_type": "code",
      "source": [],
      "metadata": {
        "id": "2OJnCC8RZiAr"
      },
      "execution_count": null,
      "outputs": []
    },
    {
      "cell_type": "markdown",
      "source": [
        "## CODE INTERVIEW EXCERSISES"
      ],
      "metadata": {
        "id": "wdlRlWxmmMy8"
      }
    },
    {
      "cell_type": "markdown",
      "source": [
        "SOLUTION TOOK AROUND 45 MINUTES, AVERAGE TIME.\n",
        "\n",
        "11:29:24 ON VIDEO\n"
      ],
      "metadata": {
        "id": "CLd5k_rEDjQ9"
      }
    },
    {
      "cell_type": "code",
      "source": [
        "# brute force solution\n",
        "def subarray_sum(arr, target):\n",
        "  n = len(arr)\n",
        "  # i goes from 0 to n-1\n",
        "  for i in range(0, n):\n",
        "      # j goes from i to n\n",
        "      for j in range(i, n+1):\n",
        "          if sum(arr[i:j]) == target:\n",
        "              return i, j-1\n",
        "  return None,None\n",
        "\n",
        "arr = [1, 7, 4, 2, 1, 3]\n",
        "target = 10\n",
        "#start, end = subarray_sum(arr, target)\n",
        "#print(start, end)\n",
        "print(subarray_sum(arr, target))"
      ],
      "metadata": {
        "colab": {
          "base_uri": "https://localhost:8080/"
        },
        "id": "N4qdGtfLW0WT",
        "outputId": "2f1d0b0c-02f5-4581-f762-857b42eb6402"
      },
      "execution_count": null,
      "outputs": [
        {
          "output_type": "stream",
          "name": "stdout",
          "text": [
            "(2, 5)\n"
          ]
        }
      ]
    },
    {
      "cell_type": "code",
      "source": [
        "def subarray_sum2(arr, target):\n",
        "    n = len(arr)\n",
        "    # i goes from 0 to n-1\n",
        "    for i in range(0, n):\n",
        "        s = 0 # running sum\n",
        "        # j goes from i to n\n",
        "        for j in range(i, n+1):\n",
        "            if s == target:\n",
        "                return i, j-1\n",
        "            elif s > target:\n",
        "                break\n",
        "            if j < n:\n",
        "                s += arr[j]\n",
        "    return None,None\n",
        "\n",
        "arr = [1, 7, 4, 2, 1, 3]\n",
        "target = 10\n",
        "print(subarray_sum2(arr, target))"
      ],
      "metadata": {
        "colab": {
          "base_uri": "https://localhost:8080/"
        },
        "id": "jAO3yYlU1s-y",
        "outputId": "3f95299d-1a14-4d9d-ae3e-8ff8c205871a"
      },
      "execution_count": null,
      "outputs": [
        {
          "output_type": "stream",
          "name": "stdout",
          "text": [
            "(2, 5)\n"
          ]
        }
      ]
    },
    {
      "cell_type": "code",
      "source": [
        "def subarray_sum3(arr, target):\n",
        "    n = len(arr)\n",
        "    i, j, s = 0, 0, 0\n",
        "    while i < n and j < n+1:\n",
        "        if s == target:\n",
        "            return i, j-1\n",
        "        elif s < target:\n",
        "          if j < n:\n",
        "              s += arr[j]\n",
        "          j += 1\n",
        "        elif s > target:\n",
        "          s -= arr[i]\n",
        "          i += 1\n",
        "    return None, None\n",
        "\n",
        "arr = [1, 7, 4, 2, 1, 3]\n",
        "target = 10\n",
        "print(subarray_sum3(arr, target))"
      ],
      "metadata": {
        "colab": {
          "base_uri": "https://localhost:8080/"
        },
        "id": "_JzJrkr1AcI4",
        "outputId": "3dabb709-d870-4782-f6ab-11c40f48652a"
      },
      "execution_count": null,
      "outputs": [
        {
          "output_type": "stream",
          "name": "stdout",
          "text": [
            "(2, 5)\n"
          ]
        }
      ]
    },
    {
      "cell_type": "markdown",
      "source": [
        "CASE NUMBER 2"
      ],
      "metadata": {
        "id": "4OjQE18VD3oI"
      }
    },
    {
      "cell_type": "code",
      "source": [],
      "metadata": {
        "id": "IagkzPKDXL6S"
      },
      "execution_count": null,
      "outputs": []
    },
    {
      "cell_type": "code",
      "source": [],
      "metadata": {
        "id": "ZDUhlMO3W0xz"
      },
      "execution_count": null,
      "outputs": []
    },
    {
      "cell_type": "markdown",
      "source": [
        "## DATA STRUCTURES AND ALGORITHMS"
      ],
      "metadata": {
        "id": "EB812vPImZSp"
      }
    },
    {
      "cell_type": "code",
      "source": [
        "def merge(nums1, nums2, depth=0):\n",
        "    print(' '*depth, 'merge:', nums1, nums2)\n",
        "    i, j, merged = 0,0, []\n",
        "    while i < len(nums1) and j < len(nums2):\n",
        "        if nums1[i] <= nums2[j]:\n",
        "          merged.append(nums1[i])\n",
        "          i += 1\n",
        "        else:\n",
        "          merged.append(nums2[j])\n",
        "          j += 1\n",
        "    return merged + nums1[i:] + nums2[j:]\n",
        "def merge_sort(nums, depth=0):\n",
        "    print(' '*depth, 'merge_sort:', nums)\n",
        "    if len(nums) < 2:\n",
        "        return nums\n",
        "    mid = len(nums) // 2\n",
        "    return merge(merge_sort(nums[:mid], depth+1),\n",
        "                 merge_sort(nums[mid:], depth+1),\n",
        "                 depth+1)\n",
        "\n",
        "merge_sort([5, -12, 2, 6, 1, 23, 7, 7, -12])"
      ],
      "metadata": {
        "colab": {
          "base_uri": "https://localhost:8080/"
        },
        "id": "gsi8vUj1kwXk",
        "outputId": "a79ed48d-aed6-47bd-eff4-908d50222751"
      },
      "execution_count": null,
      "outputs": [
        {
          "output_type": "stream",
          "name": "stdout",
          "text": [
            " merge_sort: [5, -12, 2, 6, 1, 23, 7, 7, -12]\n",
            "  merge_sort: [5, -12, 2, 6]\n",
            "   merge_sort: [5, -12]\n",
            "    merge_sort: [5]\n",
            "    merge_sort: [-12]\n",
            "    merge: [5] [-12]\n",
            "   merge_sort: [2, 6]\n",
            "    merge_sort: [2]\n",
            "    merge_sort: [6]\n",
            "    merge: [2] [6]\n",
            "   merge: [-12, 5] [2, 6]\n",
            "  merge_sort: [1, 23, 7, 7, -12]\n",
            "   merge_sort: [1, 23]\n",
            "    merge_sort: [1]\n",
            "    merge_sort: [23]\n",
            "    merge: [1] [23]\n",
            "   merge_sort: [7, 7, -12]\n",
            "    merge_sort: [7]\n",
            "    merge_sort: [7, -12]\n",
            "     merge_sort: [7]\n",
            "     merge_sort: [-12]\n",
            "     merge: [7] [-12]\n",
            "    merge: [7] [-12, 7]\n",
            "   merge: [1, 23] [-12, 7, 7]\n",
            "  merge: [-12, 2, 5, 6] [-12, 1, 7, 7, 23]\n"
          ]
        },
        {
          "output_type": "execute_result",
          "data": {
            "text/plain": [
              "[-12, -12, 1, 2, 5, 6, 7, 7, 23]"
            ]
          },
          "metadata": {},
          "execution_count": 35
        }
      ]
    },
    {
      "cell_type": "code",
      "source": [],
      "metadata": {
        "id": "kl3W6-Hh3yYd"
      },
      "execution_count": null,
      "outputs": []
    },
    {
      "cell_type": "code",
      "source": [],
      "metadata": {
        "id": "EO9M9aFckxOH"
      },
      "execution_count": null,
      "outputs": []
    },
    {
      "cell_type": "code",
      "source": [
        "def insertion_sort(nums):\n",
        "    nums = list(nums)\n",
        "    print(f\"originalNums: {nums}\\n\")\n",
        "    for i in range(len(nums)):\n",
        "        cur = nums.pop(i)\n",
        "        j = i - 1\n",
        "        #print(f\"i: {i}\")\n",
        "        #print(f\"j: {j}\")\n",
        "        #print(f\"nums_popped: {nums}\")\n",
        "        #print(f\"cur: {cur}\")\n",
        "        while j >= 0 and nums[j] > cur:\n",
        "          j -= 1\n",
        "        nums.insert(j + 1, cur)\n",
        "    return nums\n",
        "\n",
        "print(f\"sorted nums: {insertion_sort([37, 45, 29, 8, 12, 88, -3])}\")"
      ],
      "metadata": {
        "id": "vQhRFW7cAyWC",
        "colab": {
          "base_uri": "https://localhost:8080/"
        },
        "outputId": "e3ceb2d6-58db-4275-cef7-91ab462bf226"
      },
      "execution_count": null,
      "outputs": [
        {
          "output_type": "stream",
          "name": "stdout",
          "text": [
            "originalNums: [37, 45, 29, 8, 12, 88, -3]\n",
            "\n",
            "sorted nums: [-3, 8, 12, 29, 37, 45, 88]\n"
          ]
        }
      ]
    },
    {
      "cell_type": "markdown",
      "source": [
        "Iteration 1: i = 0\n",
        "\n",
        "originalNums: [37, 45, 29, 8, 12, 88, -3]\n",
        "\n",
        "i: 0\n",
        "\n",
        "j: -1\n",
        "\n",
        "nums_popped: [45, 29, 8, 12, 88, -3] (37 is popped)\n",
        "\n",
        "cur: 37\n",
        "\n",
        "Since j is -1, the while loop condition j >= 0 is false from the start.\n",
        "\n",
        "Therefore, 37 is inserted back at index j + 1 = 0. Effectively, the sorted portion now contains just [37].\n",
        "\n",
        "\n",
        "Iteration 2: i = 1\n",
        "\n",
        "i: 1\n",
        "j: 0\n",
        "\n",
        "nums_popped: [37, 29, 8, 12, 88, -3] (45 is popped)\n",
        "\n",
        "cur: 45\n",
        "\n",
        "The while loop checks if j >= 0 (true) and nums[j] > cur (37 > 45, false).\n",
        "\n",
        "The loop doesn't execute. 45 is inserted back at index j + 1 = 1. The sorted portion is now [37, 45].\n",
        "\n",
        "Iteration 3: i = 2\n",
        "\n",
        "i: 2\n",
        "j: 1\n",
        "nums_popped: [37, 45, 8, 12, 88, -3] (29 is popped)\n",
        "\n",
        "cur: 29\n",
        "\n",
        "The while loop checks:\n",
        "\n",
        "j >= 0 (true) and nums[j] > cur (45 > 29, true). j becomes 0.\n",
        "\n",
        "j >= 0 (true) and nums[j] > cur (37 > 29, true). j becomes -1.\n",
        "\n",
        "The loop terminates. 29 is inserted at j + 1 = 0. The sorted portion is [29, 37, 45].\n",
        "\n",
        "Iteration 4: i = 3\n",
        "\n",
        "i: 3\n",
        "\n",
        "j: 2\n",
        "\n",
        "nums_popped: [29, 37, 45, 12, 88, -3] (8 is popped)\n",
        "\n",
        "cur: 8\n",
        "\n",
        "The while loop executes multiple times, comparing and shifting 45, 37, and 29 one position to the right until 8 finds its correct place at the beginning. The sorted portion becomes [8, 29, 37, 45]."
      ],
      "metadata": {
        "id": "KMU6j9fdjuO8"
      }
    },
    {
      "cell_type": "code",
      "source": [],
      "metadata": {
        "id": "BYtdF8U9jtbt"
      },
      "execution_count": null,
      "outputs": []
    },
    {
      "cell_type": "code",
      "source": [],
      "metadata": {
        "id": "iIRES9_OA0NS"
      },
      "execution_count": null,
      "outputs": []
    },
    {
      "cell_type": "code",
      "source": [
        "class TreeNode:\n",
        "    def __init__(self, val=0, left=None, right=None):\n",
        "        self.val = val\n",
        "        self.left = left\n",
        "        self.right = right\n",
        "\n",
        "def display_tree_horizontal(node, depth=0, pos=0, output=None):\n",
        "    \"\"\"\n",
        "    Displays a binary tree horizontally with the root on the left.\n",
        "    \"\"\"\n",
        "    if output is None:\n",
        "        output = {}\n",
        "\n",
        "    if node is not None:\n",
        "        # Add the current node to the output dictionary based on its depth and position\n",
        "        output.setdefault(depth, {})[pos] = str(node.val)\n",
        "\n",
        "        # Traverse left and right children\n",
        "        display_tree_horizontal(node.left, depth + 1, pos - 1, output)\n",
        "        display_tree_horizontal(node.right, depth + 1, pos + 1, output)\n",
        "\n",
        "    if depth == 0:\n",
        "        # After the recursion is complete, format and print the tree\n",
        "        min_pos = min([min(d.keys()) for d in output.values()])\n",
        "        max_pos = max([max(d.keys()) for d in output.values()])\n",
        "        for d in sorted(output.keys()):\n",
        "            row = []\n",
        "            for p in range(min_pos, max_pos + 1):\n",
        "                row.append(output[d].get(p, \" \"))\n",
        "            print(\" \".join(row))\n",
        "\n",
        "# Example Usage\n",
        "if __name__ == \"__main__\":\n",
        "    # Create a sample tree\n",
        "    #        1\n",
        "    #       / \\\n",
        "    #      2   3\n",
        "    #     / \\\n",
        "    #    4   5\n",
        "    root = TreeNode(1)\n",
        "    root.left = TreeNode(2)\n",
        "    root.right = TreeNode(3)\n",
        "    root.left.left = TreeNode(4)\n",
        "    root.left.right = TreeNode(5)\n",
        "\n",
        "    # Display the tree horizontally\n",
        "    display_tree_horizontal(root)"
      ],
      "metadata": {
        "colab": {
          "base_uri": "https://localhost:8080/"
        },
        "id": "DLB__aiC0ZzN",
        "outputId": "0e65608a-bb58-4ae2-97ed-6544fef0ebcc"
      },
      "execution_count": null,
      "outputs": [
        {
          "output_type": "stream",
          "name": "stdout",
          "text": [
            "    1  \n",
            "  2   3\n",
            "4   5  \n"
          ]
        }
      ]
    },
    {
      "cell_type": "code",
      "source": [],
      "metadata": {
        "id": "gkIR_a4FWDDW"
      },
      "execution_count": null,
      "outputs": []
    },
    {
      "cell_type": "code",
      "source": [],
      "metadata": {
        "id": "6wxVA22j0aq0"
      },
      "execution_count": null,
      "outputs": []
    },
    {
      "cell_type": "code",
      "source": [
        "from __future__ import division\n",
        "\n",
        "class StatisticsTracker(object):\n",
        "    def __init__(self, upper_limit=100):\n",
        "        self.max = None\n",
        "        self.min = None\n",
        "        # Mean\n",
        "        self.num_items = 0\n",
        "        self.running_sum = 0\n",
        "        self.mean = None\n",
        "        # Mode\n",
        "        self.array = [0] * (upper_limit + 1)\n",
        "        self.mode_occurrences = 0\n",
        "        self.mode = None\n",
        "    def insert(self, val):\n",
        "        if val is None:\n",
        "          raise TypeError('val cannot be None')\n",
        "        if self.max is None or val > self.max:\n",
        "          self.max = val\n",
        "        if self.min is None or val < self.min:\n",
        "          self.min = val\n",
        "        # Calculate the Mean\n",
        "        self.num_items += 1\n",
        "        self.running_sum += val\n",
        "        self.mean = self.running_sum / self.num_items\n",
        "        # Calculate the Mode\n",
        "        self.array[val] += 1\n",
        "        if self.array[val] > self.mode_occurrences:\n",
        "          self.mode_occurrences = self.array[val]\n",
        "          self.mode = val\n",
        "\n",
        "try_solution = StatisticsTracker()\n",
        "try_solution.insert(1)\n",
        "try_solution.insert(2)\n",
        "try_solution.insert(3)\n",
        "try_solution.insert(4)\n",
        "try_solution.insert(5)\n",
        "try_solution.insert(5)\n",
        "try_solution.insert(5)\n",
        "print(f\"Max: {try_solution.max}\")\n",
        "print(f\"Min: {try_solution.min}\")\n",
        "print(f\"Mean: {try_solution.mean}\")\n",
        "print(f\"Mode: {try_solution.mode }\")"
      ],
      "metadata": {
        "colab": {
          "base_uri": "https://localhost:8080/"
        },
        "id": "ZJuZ0S-pxYKv",
        "outputId": "59a34d3e-ceae-43e1-d72f-29316e13e4f3"
      },
      "execution_count": null,
      "outputs": [
        {
          "output_type": "stream",
          "name": "stdout",
          "text": [
            "Max: 5\n",
            "Min: 1\n",
            "Mean: 3.5714285714285716\n",
            "Mode: 5\n"
          ]
        }
      ]
    },
    {
      "cell_type": "code",
      "source": [
        "class SolutionDS:\n",
        "  \"\"\"\n",
        "  try_ds.fizz_buzz(15)\n",
        "  [1 and 2 not divisible stay the same, 3 is divisible: Fizz, 4 stays the same, 5: Buzz]\n",
        "  ['1', '2', 'Fizz', '4', 'Buzz', 'Fizz', '7', '8', 'Fizz', 'Buzz', '11', 'Fizz', '13', '14', 'FizzBuuzz']\n",
        "  \"\"\"\n",
        "  def fizz_buzz(self, num: int) -> list[str]:\n",
        "    if num is None:\n",
        "        raise TypeError(\"num cannot be None\")\n",
        "    if num < 1:\n",
        "        raise ValueError(\"num cannot be less than one\")\n",
        "    results = []\n",
        "    for i in range(1, num + 1):\n",
        "        if i % 3 == 0 and i % 5 == 0:\n",
        "            results.append(\"FizzBuuzz\")\n",
        "        elif i % 3 == 0:\n",
        "            results.append(\"Fizz\")\n",
        "        elif i % 5 == 0:\n",
        "            results.append(\"Buzz\")\n",
        "        else:\n",
        "            results.append(str(i))\n",
        "    return results\n",
        "\n",
        "try_ds = SolutionDS()\n",
        "print(try_ds.fizz_buzz(15))"
      ],
      "metadata": {
        "colab": {
          "base_uri": "https://localhost:8080/"
        },
        "id": "XoboM4YKG3Rv",
        "outputId": "885e8069-9715-47a0-9c6f-2b3fab0562c9"
      },
      "execution_count": null,
      "outputs": [
        {
          "output_type": "stream",
          "name": "stdout",
          "text": [
            "['1', '2', 'Fizz', '4', 'Buzz', 'Fizz', '7', '8', 'Fizz', 'Buzz', '11', 'Fizz', '13', '14', 'FizzBuuzz']\n"
          ]
        }
      ]
    },
    {
      "cell_type": "code",
      "source": [],
      "metadata": {
        "id": "UWkhb2ykG4Vu"
      },
      "execution_count": null,
      "outputs": []
    },
    {
      "cell_type": "code",
      "source": [],
      "metadata": {
        "id": "3zEul4IxxY1e"
      },
      "execution_count": null,
      "outputs": []
    },
    {
      "cell_type": "code",
      "source": [
        "def count_rotations_linear(nums):\n",
        "  position = 0\n",
        "  while position < len(nums):\n",
        "    if position > 0 and nums[position] < nums[position - 1]:\n",
        "      return position\n",
        "    position += 1\n",
        "  return 0\n",
        "try_nums = [5,6,9,0,2,3,4]\n",
        "print(count_rotations_linear(try_nums))"
      ],
      "metadata": {
        "colab": {
          "base_uri": "https://localhost:8080/"
        },
        "id": "EN2LcOlk4F46",
        "outputId": "3dba40bf-9aa9-4cd4-9297-3571d78f9884"
      },
      "execution_count": null,
      "outputs": [
        {
          "output_type": "stream",
          "name": "stdout",
          "text": [
            "3\n"
          ]
        }
      ]
    },
    {
      "cell_type": "code",
      "source": [],
      "metadata": {
        "id": "Cace7Eiw4GvZ"
      },
      "execution_count": null,
      "outputs": []
    },
    {
      "cell_type": "code",
      "source": [],
      "metadata": {
        "id": "NZKJlMRmG4-W"
      },
      "execution_count": null,
      "outputs": []
    },
    {
      "cell_type": "code",
      "source": [
        "def binary_search(lo, hi, condition):\n",
        "  while lo <= hi:\n",
        "      mid = (lo + hi) // 2\n",
        "      result = condition(mid)\n",
        "      if result == 'found':\n",
        "        return mid\n",
        "      elif result == 'left':\n",
        "        hi = mid - 1\n",
        "      else:\n",
        "        lo = mid + 1\n",
        "  return -1\n",
        "\n",
        "def first_position(nums, target):\n",
        "    def condition(mid):\n",
        "        if nums[mid] == target:\n",
        "            if mid > 0 and nums[mid - 1] == target:\n",
        "              return 'left'\n",
        "            return 'found'\n",
        "        elif nums[mid] < target:\n",
        "          return 'right'\n",
        "        else:\n",
        "          return 'left'\n",
        "    return binary_search(0, len(nums)-1, condition)\n",
        "\n",
        "def last_position(nums, target):\n",
        "    def condition(mid):\n",
        "        if nums[mid] == target:\n",
        "            if mid < len(nums) - 1 and nums[mid + 1] == target:\n",
        "              return 'right'\n",
        "            return 'found'\n",
        "        elif nums[mid] < target:\n",
        "          return 'right'\n",
        "        else:\n",
        "          return 'left'\n",
        "    return binary_search(0, len(nums) -1, condition)\n",
        "\n",
        "def first_and_last_position(nums, target):\n",
        "  return first_position(nums, target), last_position(nums, target)\n",
        "\n",
        "try_nums = [5, 5,5,7,8,8, 8,8,8,8,10]\n",
        "#try_nums = [5,7,7,7,8, 8, 6, 7, 8,10]\n",
        "try_target = 8\n",
        "print(first_and_last_position(try_nums, try_target))"
      ],
      "metadata": {
        "colab": {
          "base_uri": "https://localhost:8080/"
        },
        "id": "zJvKHvNbCVLN",
        "outputId": "c37b80e8-0b95-4f1f-9e64-20154bb3a530"
      },
      "execution_count": null,
      "outputs": [
        {
          "output_type": "stream",
          "name": "stdout",
          "text": [
            "(4, 9)\n"
          ]
        }
      ]
    },
    {
      "cell_type": "code",
      "source": [],
      "metadata": {
        "id": "rVW6bbDqCuWa"
      },
      "execution_count": null,
      "outputs": []
    },
    {
      "cell_type": "code",
      "source": [],
      "metadata": {
        "id": "btySW3FbCanv"
      },
      "execution_count": null,
      "outputs": []
    },
    {
      "cell_type": "code",
      "source": [
        "def test_location(cards, query, mid):\n",
        "  mid_number = cards[mid]\n",
        "  print(\"mid\", mid, \", mid_number:\", mid_number)\n",
        "  if mid_number == query:\n",
        "      if mid-1 >= 0 and cards[mid-1] == query:\n",
        "        return 'left'\n",
        "      else:\n",
        "        return 'found'\n",
        "  elif mid_number < query:\n",
        "    return 'left'\n",
        "  else:\n",
        "    return 'right'\n",
        "def locate_card(cards, query):\n",
        "  lo, hi = 0, len(cards) - 1\n",
        "  while lo <= hi:\n",
        "      print(\"lo\", lo, \", hi\", hi)\n",
        "      mid = (lo + hi) // 2\n",
        "      result = test_location(cards, query, mid)\n",
        "      if result == 'found':\n",
        "        return mid\n",
        "      elif result == 'left':\n",
        "        hi = mid - 1\n",
        "      elif result == 'right':\n",
        "        lo = mid + 1\n",
        "  return -1\n",
        "\n",
        "try_cards = [8,8,6,6,6,6,6,3,2,0,1]\n",
        "try_query = 6\n",
        "result = locate_card(try_cards, try_query)\n",
        "print(result)"
      ],
      "metadata": {
        "colab": {
          "base_uri": "https://localhost:8080/"
        },
        "id": "UGrv8jElAdRA",
        "outputId": "f9619d03-a8f8-4a1d-d527-579e22ccc172"
      },
      "execution_count": null,
      "outputs": [
        {
          "output_type": "stream",
          "name": "stdout",
          "text": [
            "lo 0 , hi 10\n",
            "mid 5 , mid_number: 6\n",
            "lo 0 , hi 4\n",
            "mid 2 , mid_number: 6\n",
            "2\n"
          ]
        }
      ]
    },
    {
      "cell_type": "code",
      "source": [],
      "metadata": {
        "id": "2HWlO1RmAdbQ"
      },
      "execution_count": null,
      "outputs": []
    },
    {
      "cell_type": "code",
      "source": [],
      "metadata": {
        "id": "S_UcW2g8pywk"
      },
      "execution_count": null,
      "outputs": []
    },
    {
      "cell_type": "code",
      "source": [
        "# O(log n)) Binary Search\n",
        "def locate_card_bs(cards, query):\n",
        "  low = 0\n",
        "  high = len(cards) - 1\n",
        "  while low <= high:\n",
        "      mid = (low + high) // 2\n",
        "      print(f\"checking cards at index {mid}\")\n",
        "      if cards[mid] == query:\n",
        "        return mid\n",
        "      elif cards[mid] < query:\n",
        "        print(f\"Card at position {mid} is too low, moving to upper half...\")\n",
        "        low = mid + 1\n",
        "      else:\n",
        "        print(f\"Card at position {mid} is too high, moving to lower half...\")\n",
        "        high = mid - 1\n",
        "  print(\"Card not found\")\n",
        "  return -1\n",
        "\n",
        "try_cards = [13, 11, 10, 7, 4, 3, 1, 0]\n",
        "try_query = 7\n",
        "result = locate_card_bs(try_cards, try_query)\n",
        "print(result)"
      ],
      "metadata": {
        "colab": {
          "base_uri": "https://localhost:8080/"
        },
        "id": "HNkwz3nb-BvJ",
        "outputId": "b770d2ee-ad93-48fa-9dcf-c831864e0eb6"
      },
      "execution_count": null,
      "outputs": [
        {
          "output_type": "stream",
          "name": "stdout",
          "text": [
            "checking cards at index 3\n",
            "3\n"
          ]
        }
      ]
    },
    {
      "cell_type": "code",
      "source": [
        "# O(n) Linear Search Algorithm\n",
        "def locate_card(cards, query):\n",
        "  position = 0\n",
        "  while True:\n",
        "    if cards[position] == query:\n",
        "      return position\n",
        "    position += 1\n",
        "    if position == len(cards):\n",
        "      return -1\n",
        "try_cards = [13, 11, 10, 7, 4, 3, 1, 0]\n",
        "try_query = 7\n",
        "result = locate_card(try_cards, try_query)\n",
        "print(result)"
      ],
      "metadata": {
        "colab": {
          "base_uri": "https://localhost:8080/"
        },
        "id": "1KBm8l1ZgRFT",
        "outputId": "b1cf937c-9fcf-4467-af23-95b5f6b1a8e2"
      },
      "execution_count": null,
      "outputs": [
        {
          "output_type": "stream",
          "name": "stdout",
          "text": [
            "3\n"
          ]
        }
      ]
    },
    {
      "cell_type": "markdown",
      "source": [
        "# VIDEOS IN ORDER"
      ],
      "metadata": {
        "id": "NzLD9JPPeK5N"
      }
    },
    {
      "cell_type": "code",
      "source": [
        "# video 55\n",
        "class FloodFill:\n",
        "    def flood_fill(self, image: list[list[int]], sr: int, sc: int, new_color: int) -> list[list[int]]:\n",
        "        row, col = len(image), len(image[0])\n",
        "        color = image[sr][sc]\n",
        "        if color == new_color:\n",
        "            return image\n",
        "\n",
        "        def dfs(r, c):\n",
        "            if image[r][c] == color:\n",
        "                image[r][c] = new_color\n",
        "                if r >= 1: dfs(r-1, c)\n",
        "                if r+1 < row: dfs(r+1, c)\n",
        "                if c >= 1: dfs(r, c-1)\n",
        "                if c+1 < col: dfs(r, c+1)\n",
        "\n",
        "        dfs(sr, sc)\n",
        "        return image\n",
        "\n",
        "flood_fill = FloodFill()\n",
        "print(flood_fill.flood_fill([[1,1,1],[1,1,0],[1,0,1]], 1, 1, 2))"
      ],
      "metadata": {
        "id": "7p0RcnFFkrAi",
        "colab": {
          "base_uri": "https://localhost:8080/"
        },
        "outputId": "2565e11c-b32d-4c74-a058-d9a6e9b81b1d"
      },
      "execution_count": null,
      "outputs": [
        {
          "output_type": "stream",
          "name": "stdout",
          "text": [
            "[[2, 2, 2], [2, 2, 0], [2, 0, 1]]\n"
          ]
        }
      ]
    },
    {
      "cell_type": "code",
      "source": [],
      "metadata": {
        "id": "7X0bYO95usxw"
      },
      "execution_count": null,
      "outputs": []
    },
    {
      "cell_type": "code",
      "source": [],
      "metadata": {
        "id": "6bXSgrtwkr2a"
      },
      "execution_count": null,
      "outputs": []
    },
    {
      "cell_type": "code",
      "source": [
        "# Sample list of people\n",
        "people =[[7,0],[4,4],[7,1],[5,0],[6,1],[5,2]]\n",
        "\n",
        "# Sort the list using the provided lambda function\n",
        "sorted_people = sorted(people, key=lambda x: (-x[0], x[1]))\n",
        "\n",
        "# Print the sorted list\n",
        "print(sorted_people)"
      ],
      "metadata": {
        "colab": {
          "base_uri": "https://localhost:8080/"
        },
        "id": "g1TY7Je4L6S8",
        "outputId": "1e5b8444-c529-43df-8ec4-03703a3fa461"
      },
      "execution_count": null,
      "outputs": [
        {
          "output_type": "stream",
          "name": "stdout",
          "text": [
            "[[7, 0], [7, 1], [6, 1], [5, 0], [5, 2], [4, 4]]\n"
          ]
        }
      ]
    },
    {
      "cell_type": "code",
      "source": [
        "# video 54\n",
        "class Reconstruct:\n",
        "    def reconstruct_queue(self, people: list[list[int]]) -> list[list[int]]:\n",
        "        people = sorted(people, key = lambda x: (-x[0], x[1]))\n",
        "        ans = []\n",
        "        for p in people:\n",
        "            ans.insert(p[1], p)\n",
        "            print(f\"After inserting p:{p}: ans:{ans}\")\n",
        "        return ans\n",
        "\n",
        "r_q = Reconstruct()\n",
        "print(r_q.reconstruct_queue([[7,0],[4,4],[7,1],[5,0],[6,1],[5,2]]))\n",
        "#print(r_q.reconstruct_queue([[5,2],[7,0],[7,1],[4,4]]))"
      ],
      "metadata": {
        "colab": {
          "base_uri": "https://localhost:8080/"
        },
        "id": "yd9_cAvBkAeT",
        "outputId": "2d43bed2-4ea1-407d-d53f-9267d31a463e"
      },
      "execution_count": null,
      "outputs": [
        {
          "output_type": "stream",
          "name": "stdout",
          "text": [
            "After inserting p:[7, 0]: ans:[[7, 0]]\n",
            "After inserting p:[7, 1]: ans:[[7, 0], [7, 1]]\n",
            "After inserting p:[6, 1]: ans:[[7, 0], [6, 1], [7, 1]]\n",
            "After inserting p:[5, 0]: ans:[[5, 0], [7, 0], [6, 1], [7, 1]]\n",
            "After inserting p:[5, 2]: ans:[[5, 0], [7, 0], [5, 2], [6, 1], [7, 1]]\n",
            "After inserting p:[4, 4]: ans:[[5, 0], [7, 0], [5, 2], [6, 1], [4, 4], [7, 1]]\n",
            "[[5, 0], [7, 0], [5, 2], [6, 1], [4, 4], [7, 1]]\n"
          ]
        }
      ]
    },
    {
      "cell_type": "code",
      "source": [],
      "metadata": {
        "id": "YX2kFmdBkDev"
      },
      "execution_count": null,
      "outputs": []
    },
    {
      "cell_type": "code",
      "source": [],
      "metadata": {
        "id": "Xw-8ZUTqkAkb"
      },
      "execution_count": null,
      "outputs": []
    },
    {
      "cell_type": "code",
      "source": [
        "# VIDEO 52\n",
        "class RemoveDigits:\n",
        "    def remove_digits(self, num: str, k: int) -> str:\n",
        "        stack = []\n",
        "        number_to_remove = k\n",
        "        for current_element in num:\n",
        "            while number_to_remove and stack and stack[-1] > current_element:\n",
        "                stack.pop()\n",
        "                number_to_remove -= 1\n",
        "            stack.append(current_element)\n",
        "        answer = \"\".join(stack[0:len(num)-k]).lstrip(\"0\")\n",
        "        if len(answer):\n",
        "            return answer\n",
        "        else:\n",
        "            return \"0\"\n",
        "\n",
        "r_digits = RemoveDigits()\n",
        "print(r_digits.remove_digits(\"1432219\", 3))"
      ],
      "metadata": {
        "id": "n5qHbXPSdjwp",
        "colab": {
          "base_uri": "https://localhost:8080/"
        },
        "outputId": "b0fb1342-2441-4420-c938-c966f930223f"
      },
      "execution_count": null,
      "outputs": [
        {
          "output_type": "stream",
          "name": "stdout",
          "text": [
            "1219\n"
          ]
        }
      ]
    },
    {
      "cell_type": "code",
      "source": [],
      "metadata": {
        "id": "Wda_sigjKN7W"
      },
      "execution_count": null,
      "outputs": []
    },
    {
      "cell_type": "code",
      "source": [],
      "metadata": {
        "id": "y2IghOaGjjoC"
      },
      "execution_count": null,
      "outputs": []
    },
    {
      "cell_type": "code",
      "source": [
        "import unittest\n",
        "# video 50\n",
        "class FirstUnique:\n",
        "    \"\"\"\n",
        "    Example Usage:\n",
        "    # Create an instance of FirstUnique\n",
        "    fu = FirstUnique([2, 3, 5])\n",
        "\n",
        "    # Test the showFirstUnique and add methods\n",
        "    print(f\" {fu.showFirstUnique()}\")  # Output: 2\n",
        "    fu.add(5)\n",
        "    print(f\" {fu.showFirstUnique()}\")  # Output: 2\n",
        "    fu.add(2)\n",
        "    print(f\" {fu.showFirstUnique()}\")  # Output: 3\n",
        "    fu.add(3)\n",
        "    print(fu.showFirstUnique())  # Output: -1\n",
        "    \"\"\"\n",
        "    def __init__(self, nums: list[int]):\n",
        "        self.q = []\n",
        "        self.dict = {}\n",
        "        for i in nums:\n",
        "            self.add(i)\n",
        "    def showFirstUnique(self) -> int:\n",
        "        while len(self.q) > 0 and self.dict[self.q[0]] > 1:\n",
        "            self.q.pop(0)\n",
        "        if len(self.q) == 0:\n",
        "            return - 1\n",
        "        else:\n",
        "            return self.q[0]\n",
        "\n",
        "    def add(self, value: int) -> None:\n",
        "        if value in self.dict:\n",
        "            self.dict[value] += 1\n",
        "        else:\n",
        "            self.dict[value] = 1\n",
        "            self.q.append(value)\n",
        "\n",
        "class TestFirstUnique(unittest.TestCase):\n",
        "    def test_first_unique(self):\n",
        "        fu = FirstUnique([2, 3, 5])\n",
        "        self.assertEqual(fu.showFirstUnique(), 2)\n",
        "        fu.add(5)\n",
        "        self.assertEqual(fu.showFirstUnique(), 2)\n",
        "        fu.add(2)\n",
        "        self.assertEqual(fu.showFirstUnique(), 3)\n",
        "        fu.add(3)\n",
        "        self.assertEqual(fu.showFirstUnique(), -1)\n",
        "        print('Success : test_first_unique')\n",
        "\n",
        "def main():\n",
        "    test = TestFirstUnique()\n",
        "    test.test_first_unique()\n",
        "\n",
        "if __name__ == '__main__':\n",
        "    main()"
      ],
      "metadata": {
        "colab": {
          "base_uri": "https://localhost:8080/"
        },
        "id": "1hW9hdDULKtl",
        "outputId": "94074c79-d75c-4cb3-cdd2-8986bdd4fac4"
      },
      "execution_count": null,
      "outputs": [
        {
          "output_type": "stream",
          "name": "stdout",
          "text": [
            "Success : test_first_unique\n"
          ]
        }
      ]
    },
    {
      "cell_type": "code",
      "source": [
        "# video 50 TRYING TO GET LOGIC WITH PRINT STATEMENTS\n",
        "class FirstUnique:\n",
        "    \"\"\"\n",
        "    Example Usage:\n",
        "    # Create an instance of FirstUnique\n",
        "    fu = FirstUnique([2, 3, 5])\n",
        "\n",
        "    # Test the showFirstUnique and add methods\n",
        "    print(f\" {fu.showFirstUnique()}\")  # Output: 2\n",
        "    fu.add(5)\n",
        "    print(f\" {fu.showFirstUnique()}\")  # Output: 2\n",
        "    fu.add(2)\n",
        "    print(f\" {fu.showFirstUnique()}\")  # Output: 3\n",
        "    fu.add(3)\n",
        "    print(fu.showFirstUnique())  # Output: -1\n",
        "    \"\"\"\n",
        "    def __init__(self, nums: list[int]):\n",
        "        self.q = []\n",
        "        self.dict = {}\n",
        "        for i in nums:\n",
        "            self.add(i)\n",
        "    def showFirstUnique(self) -> int:\n",
        "        while len(self.q) > 0 and self.dict[self.q[0]] > 1:\n",
        "            popped_element = self.q.pop(0)  # Store the popped element\n",
        "            print(f\"Popped element: {popped_element}\")  # Print the popped element\n",
        "        if len(self.q) == 0:\n",
        "            return - 1\n",
        "        else:\n",
        "            return self.q[0]\n",
        "\n",
        "    def add(self, value: int) -> None:\n",
        "        if value in self.dict:\n",
        "            self.dict[value] += 1\n",
        "        else:\n",
        "            self.dict[value] = 1\n",
        "            self.q.append(value)\n",
        "\n",
        "# The following lines were unindented to run outside the class definition\n",
        "if __name__ == \"__main__\":  # This ensures the code runs only when executed directly\n",
        "    fu = FirstUnique([2, 3, 5])\n",
        "\n",
        "    # Test the showFirstUnique and add methods\n",
        "    print(f\"First Unique: {fu.showFirstUnique()}\")  # Output: 2\n",
        "    fu.add(5)\n",
        "    print(f\"First Unique: {fu.showFirstUnique()}\")  # Output: 2\n",
        "    fu.add(2)\n",
        "    print(f\"First Unique: {fu.showFirstUnique()}\")  # Output: 3\n",
        "    fu.add(3)\n",
        "    print(f\"First Unique: {fu.showFirstUnique()}\")  # Output: -1"
      ],
      "metadata": {
        "colab": {
          "base_uri": "https://localhost:8080/"
        },
        "id": "EM3ySsWLNgSc",
        "outputId": "9f35d35d-755a-4edb-d6e2-36ff0844f4ea"
      },
      "execution_count": null,
      "outputs": [
        {
          "output_type": "stream",
          "name": "stdout",
          "text": [
            "First Unique: 2\n",
            "First Unique: 2\n",
            "Popped element: 2\n",
            "First Unique: 3\n",
            "Popped element: 3\n",
            "Popped element: 5\n",
            "First Unique: -1\n"
          ]
        }
      ]
    },
    {
      "cell_type": "code",
      "source": [],
      "metadata": {
        "id": "DkCMYDk_fKgP"
      },
      "execution_count": null,
      "outputs": []
    },
    {
      "cell_type": "code",
      "source": [],
      "metadata": {
        "id": "Otxa1oQaot9H"
      },
      "execution_count": null,
      "outputs": []
    },
    {
      "cell_type": "code",
      "source": [
        "import unittest\n",
        "# video 48\n",
        "class MaxProfit:\n",
        "    \"\"\"\n",
        "    This class is designed to buy at the min value and sell at the max value.\n",
        "    \"\"\"\n",
        "    def max_profit(self, prices: list[int])-> int:\n",
        "        if not prices:\n",
        "            return 0\n",
        "        ans = 0\n",
        "        min_price = prices[0]\n",
        "        for i in range(1, len(prices)):\n",
        "            # if current price prices[i] is LESS THAN min_price\n",
        "            # update min_price to price prices[i]\n",
        "            if prices[i] < min_price:\n",
        "                min_price = prices[i]\n",
        "            else:\n",
        "                ans = max(ans, prices[i] - min_price)\n",
        "        return ans\n",
        "\n",
        "class TestMaxProfit(unittest.TestCase):\n",
        "    def test_max_profit(self):\n",
        "        solution = MaxProfit()\n",
        "        prices = [7, 1, 5, 3, 6, 4]\n",
        "        expected_output = 5\n",
        "        self.assertEqual(solution.max_profit(prices), expected_output)\n",
        "        print('Success: test_max_profit')\n",
        "\n",
        "def main():\n",
        "    test = TestMaxProfit()\n",
        "    test.test_max_profit()\n",
        "\n",
        "if __name__ == '__main__':\n",
        "    main()"
      ],
      "metadata": {
        "colab": {
          "base_uri": "https://localhost:8080/"
        },
        "id": "zOw0ZUKGeoNs",
        "outputId": "2b1b6a80-09c2-46b2-9766-36a3151bf3cd"
      },
      "execution_count": null,
      "outputs": [
        {
          "output_type": "stream",
          "name": "stdout",
          "text": [
            "Success: test_max_profit\n"
          ]
        }
      ]
    },
    {
      "cell_type": "code",
      "source": [],
      "metadata": {
        "id": "o74v8sV4gV6C"
      },
      "execution_count": null,
      "outputs": []
    },
    {
      "cell_type": "code",
      "source": [],
      "metadata": {
        "id": "6f_-t_06eou0"
      },
      "execution_count": null,
      "outputs": []
    },
    {
      "cell_type": "code",
      "source": [
        "import unittest\n",
        "# video 47\n",
        "class CityCost:\n",
        "    def twoCitySchedCost(self, costs: list[list[int]]) -> int:\n",
        "        sorted_cost = sorted(costs, key = lambda x: x[0] - x[1])\n",
        "        result = 0\n",
        "        for i in range(len(costs)):\n",
        "            if i < len(costs) // 2:\n",
        "                result += sorted_cost[i][0]\n",
        "            else:\n",
        "                result += sorted_cost[i][1]\n",
        "        return result\n",
        "\n",
        "class TestCityCost(unittest.TestCase):\n",
        "    def test_two_city_sched_cost(self):\n",
        "        solution = CityCost()\n",
        "        costs = [[10, 20], [30, 200], [400, 50], [30, 20]]\n",
        "        expected_output = 110\n",
        "        self.assertEqual(solution.twoCitySchedCost(costs), expected_output)\n",
        "        print('Success: test_two_city_sched_cost')\n",
        "\n",
        "def main():\n",
        "    test = TestCityCost()\n",
        "    test.test_two_city_sched_cost()\n",
        "\n",
        "if __name__ == '__main__':\n",
        "    main()\n"
      ],
      "metadata": {
        "colab": {
          "base_uri": "https://localhost:8080/"
        },
        "id": "w_JGePYA0HQf",
        "outputId": "49f3bb0b-8320-43de-cc93-4bf5f1c31443"
      },
      "execution_count": null,
      "outputs": [
        {
          "output_type": "stream",
          "name": "stdout",
          "text": [
            "Success: test_two_city_sched_cost\n"
          ]
        }
      ]
    },
    {
      "cell_type": "code",
      "source": [],
      "metadata": {
        "id": "6shXEmkq0KB0"
      },
      "execution_count": null,
      "outputs": []
    },
    {
      "cell_type": "code",
      "source": [],
      "metadata": {
        "id": "9DBBADIH0IVU"
      },
      "execution_count": null,
      "outputs": []
    },
    {
      "cell_type": "code",
      "source": [
        "# video 46\n",
        "from collections import deque\n",
        "from typing import Optional\n",
        "import unittest\n",
        "\n",
        "class TreeNode:\n",
        "    def __init__(self, val=0, left=None, right=None):\n",
        "        self.val = val\n",
        "        self.left = left\n",
        "        self.right = right\n",
        "\n",
        "class ZigZagOrder:\n",
        "    def zigzagLevelOrder(self, root: Optional[TreeNode]) -> list[list[int]]:\n",
        "        res = []\n",
        "        q = deque([root] if root else [])\n",
        "        while q:\n",
        "            level = []\n",
        "            for i in range(len(q)):\n",
        "                node = q.popleft()\n",
        "                level.append(node.val)\n",
        "                if node.left:\n",
        "                    q.append(node.left)\n",
        "                if node.right:\n",
        "                    q.append(node.right)\n",
        "            level = list(reversed(level)) if len(res) % 2 else level\n",
        "            res.append(level)\n",
        "        return res\n",
        "\n",
        "class TestZigZagOrder(unittest.TestCase):\n",
        "    def test_zigzag_level_order(self):\n",
        "        solution = ZigZagOrder()\n",
        "        root = TreeNode(3)\n",
        "        root.left = TreeNode(9)\n",
        "        root.right = TreeNode(20)\n",
        "        root.right.left = TreeNode(15)\n",
        "        root.right.right = TreeNode(7)\n",
        "        expected_output = [[3], [20, 9], [15, 7]]\n",
        "        self.assertEqual(solution.zigzagLevelOrder(root), expected_output)\n",
        "        print('Success: test_zigzag_level_order')\n",
        "\n",
        "def main():\n",
        "    test = TestZigZagOrder()\n",
        "    test.test_zigzag_level_order()\n",
        "\n",
        "if __name__ == '__main__':\n",
        "    main()"
      ],
      "metadata": {
        "colab": {
          "base_uri": "https://localhost:8080/"
        },
        "id": "6TbqNFriVnP8",
        "outputId": "5da5a683-80d9-451b-f6ff-96224affe4c9"
      },
      "execution_count": null,
      "outputs": [
        {
          "output_type": "stream",
          "name": "stdout",
          "text": [
            "Success: test_zigzag_level_order\n"
          ]
        }
      ]
    },
    {
      "cell_type": "code",
      "source": [],
      "metadata": {
        "id": "B8-i8nHRlqL1"
      },
      "execution_count": null,
      "outputs": []
    },
    {
      "cell_type": "code",
      "source": [],
      "metadata": {
        "id": "k9mvz1S3VoOM"
      },
      "execution_count": null,
      "outputs": []
    },
    {
      "cell_type": "code",
      "source": [
        "# Video 44\n",
        "import unittest\n",
        "\n",
        "class IsBadVersion:\n",
        "    def __init__(self, n):\n",
        "        self.n = n\n",
        "\n",
        "    def isBadVersion(self, version):\n",
        "        return version >= self.n  # Simplified logical check.\n",
        "\n",
        "\n",
        "class EsaVersion:\n",
        "    def first_bad_version(self, n, is_bad_version_obj):\n",
        "        start = 1\n",
        "        end = n\n",
        "        while start < end:\n",
        "            mid = (start + end) // 2\n",
        "            if is_bad_version_obj.isBadVersion(mid):\n",
        "                end = mid  # mid might be the first bad version\n",
        "            else:\n",
        "                start = mid + 1  # Search in the upper half\n",
        "        return start  # start should now be the first bad version\n",
        "\n",
        "#try_esa = EsaVersion()\n",
        "#try_isbv = IsBadVersion(3)\n",
        "#print(try_esa.first_bad_version(5, try_isbv))\n",
        "\n",
        "class TestEsaVersion(unittest.TestCase):\n",
        "    def test_first_bad_version(self):\n",
        "        solution = EsaVersion()\n",
        "        is_bad_version_obj = IsBadVersion(3)\n",
        "        self.assertEqual(solution.first_bad_version(5, is_bad_version_obj), 3)\n",
        "        print('Success: test_first_bad_version')\n",
        "\n",
        "def main():\n",
        "    test = TestEsaVersion()\n",
        "    test.test_first_bad_version()\n",
        "\n",
        "if __name__ == '__main__':\n",
        "    main()"
      ],
      "metadata": {
        "colab": {
          "base_uri": "https://localhost:8080/"
        },
        "id": "qgUEYh0aMcZw",
        "outputId": "177f5a8d-9ddc-4832-fd7f-fb9d4e1f7959"
      },
      "execution_count": null,
      "outputs": [
        {
          "output_type": "stream",
          "name": "stdout",
          "text": [
            "Success: test_first_bad_version\n"
          ]
        }
      ]
    },
    {
      "cell_type": "code",
      "source": [],
      "metadata": {
        "id": "Sk6dYiyUTZ_K"
      },
      "execution_count": null,
      "outputs": []
    },
    {
      "cell_type": "code",
      "source": [],
      "metadata": {
        "id": "CLToS1WmMdPn"
      },
      "execution_count": null,
      "outputs": []
    },
    {
      "cell_type": "code",
      "source": [
        "import unittest\n",
        "# video 43\n",
        "class UniqueChar:\n",
        "    def first_unique_char(self, s: str) -> int:\n",
        "        d = {}\n",
        "        for i in range(len(s)):\n",
        "            if s[i] not in d:\n",
        "                d[s[i]] = 1\n",
        "            else:\n",
        "                d[s[i]] += 1\n",
        "\n",
        "        for i in range(len(s)):\n",
        "            if d[s[i]] == 1:\n",
        "                return i\n",
        "        return -1\n",
        "\n",
        "class TestUniqueChar(unittest.TestCase):\n",
        "    def test_first_unique_char(self):\n",
        "        solution = UniqueChar()\n",
        "        input_data = \"abcdaba\"\n",
        "        expected_output = 2\n",
        "        self.assertEqual(solution.first_unique_char(input_data), expected_output)\n",
        "        print('Success: test_first_unique_char')\n",
        "\n",
        "def main():\n",
        "    test = TestUniqueChar()\n",
        "    test.test_first_unique_char()\n",
        "\n",
        "if __name__ == '__main__':\n",
        "    main()"
      ],
      "metadata": {
        "colab": {
          "base_uri": "https://localhost:8080/"
        },
        "id": "eqbKl4fkp27X",
        "outputId": "6703476e-bd91-44ce-b1e4-e5ab6bae97b6"
      },
      "execution_count": null,
      "outputs": [
        {
          "output_type": "stream",
          "name": "stdout",
          "text": [
            "Success: test_first_unique_char\n"
          ]
        }
      ]
    },
    {
      "cell_type": "code",
      "source": [],
      "metadata": {
        "id": "XXHFsRnsE1mC"
      },
      "execution_count": null,
      "outputs": []
    },
    {
      "cell_type": "code",
      "source": [],
      "metadata": {
        "id": "kxSNB3LUp34U"
      },
      "execution_count": null,
      "outputs": []
    },
    {
      "cell_type": "code",
      "source": [
        "# video 41\n",
        "class Product:\n",
        "    def product_except_self(self, nums: list[int]) -> list[int]:\n",
        "        # input [1, 2, 3, 4]\n",
        "\n",
        "        # product from left to right\n",
        "        left = [1]*len(nums)# [1,1,1,1]\n",
        "        for i in range(1, len(nums)):\n",
        "            left[i] = left[i-1]*nums[i-1]\n",
        "\n",
        "        # product from right to left\n",
        "        right = [1]*len(nums)# [1,1,1,1]\n",
        "        for i in range(len(nums)-2, -1, -1):\n",
        "            right[i] = right[i+1]*nums[i+1]\n",
        "\n",
        "        res = [1]*len(nums)\n",
        "        for i in range(len(nums)):\n",
        "            res[i] = left[i]*right[i]\n",
        "        return res\n",
        "\n",
        "import unittest\n",
        "\n",
        "class TestProduct(unittest.TestCase):\n",
        "    def test_product_except_self(self):\n",
        "        solution = Solution41()\n",
        "        # Test case with [1, 2, 3, 4]\n",
        "        input_data = [1, 2, 3, 4]\n",
        "        expected_output = [24,12, 8 ,6]\n",
        "        self.assertEqual(solution.product_except_self(input_data), expected_output)\n",
        "        print('Success: test_product_except_self')\n",
        "\n",
        "def main():\n",
        "    test = TestProduct()\n",
        "    test.test_product_except_self()\n",
        "\n",
        "if __name__ == '__main__':\n",
        "      main()\n"
      ],
      "metadata": {
        "id": "1seNIIzw7AnG",
        "colab": {
          "base_uri": "https://localhost:8080/"
        },
        "outputId": "e860555d-fff4-4d1a-ec8d-1a1a8b871e75"
      },
      "execution_count": null,
      "outputs": [
        {
          "output_type": "stream",
          "name": "stdout",
          "text": [
            "Success: test_product_except_self\n"
          ]
        }
      ]
    },
    {
      "cell_type": "code",
      "source": [],
      "metadata": {
        "id": "w4RhXKCUjZr5"
      },
      "execution_count": null,
      "outputs": []
    },
    {
      "cell_type": "code",
      "source": [],
      "metadata": {
        "id": "cTqNUt0EgSFZ"
      },
      "execution_count": null,
      "outputs": []
    },
    {
      "cell_type": "code",
      "source": [
        "# video 34\n",
        "class Solution27:\n",
        "  def rotate_image(self, matrix: list[list[int]]) -> None:\n",
        "    n = len(matrix[0])\n",
        "    for row in range(n):\n",
        "        for col in range(row, n):\n",
        "          matrix[col][row], matrix[row][col] = \\\n",
        "          matrix[row][col], matrix[col][row]\n",
        "    for i in range(n):\n",
        "      matrix[i].reverse()\n",
        "\n",
        "try27 = Solution27()\n",
        "matrix = [[1,2,3],[4,5,6],[7,8,9]]\n",
        "print(f\"ORIGINAL MATRIX:\\n{matrix[0]}\\n{matrix[1]}\\n{matrix[2]}\\n\")\n",
        "try27.rotate_image(matrix)\n",
        "print(f\"ROTATED MATRIX:\\n{matrix[0]}\\n{matrix[1]}\\n{matrix[2]}\")"
      ],
      "metadata": {
        "colab": {
          "base_uri": "https://localhost:8080/"
        },
        "id": "UIr1fftwyj-0",
        "outputId": "6934c312-1d72-4415-de20-7818937eb783"
      },
      "execution_count": null,
      "outputs": [
        {
          "output_type": "stream",
          "name": "stdout",
          "text": [
            "ORIGINAL MATRIX:\n",
            "[1, 2, 3]\n",
            "[4, 5, 6]\n",
            "[7, 8, 9]\n",
            "\n",
            "ROTATED MATRIX:\n",
            "[7, 4, 1]\n",
            "[8, 5, 2]\n",
            "[9, 6, 3]\n"
          ]
        }
      ]
    },
    {
      "cell_type": "code",
      "source": [],
      "metadata": {
        "id": "k_yOsYNB0DUg"
      },
      "execution_count": null,
      "outputs": []
    },
    {
      "cell_type": "code",
      "source": [],
      "metadata": {
        "id": "Ql2GUtWWylyF"
      },
      "execution_count": null,
      "outputs": []
    },
    {
      "cell_type": "code",
      "source": [
        "# video 33\n",
        "class Solution26:\n",
        "  \"\"\"\n",
        "  For example, an array like [4, 5, 6, 7, 0, 1, 2]\n",
        "  is a rotated version of the sorted array [0, 1, 2, 4, 5, 6, 7].\n",
        "  \"\"\"\n",
        "  def search(self, nums: list[int], target: int) -> int:\n",
        "    left = 0\n",
        "    right = len(nums) - 1\n",
        "    while left <= right:\n",
        "        mid = (left + right) // 2\n",
        "        if target == nums[mid]:\n",
        "          return mid\n",
        "        if nums[left] <= nums[mid]:\n",
        "          if target > nums[mid] or target < nums[left]:\n",
        "            left = mid + 1\n",
        "          else:\n",
        "            right = mid - 1\n",
        "        else:\n",
        "          if target < nums[mid] or target > nums[right]:\n",
        "            right = mid - 1\n",
        "          else:\n",
        "            left = mid + 1\n",
        "    return -1\n",
        "try26 = Solution26()\n",
        "print(try26.search([4,5,6,7,0,1,2], 0))"
      ],
      "metadata": {
        "colab": {
          "base_uri": "https://localhost:8080/"
        },
        "id": "fiTx5PNi8d5D",
        "outputId": "4718c9f2-c73d-4652-eb57-7c8015dc0258"
      },
      "execution_count": null,
      "outputs": [
        {
          "output_type": "stream",
          "name": "stdout",
          "text": [
            "4\n"
          ]
        }
      ]
    },
    {
      "cell_type": "code",
      "source": [
        "#video 33\n",
        "\"\"\"\n",
        "Let's walk through the provided example:\n",
        "\n",
        "try26 = Solution26()\n",
        "print(try26.search([4,5,6,7,0,1,2], 0))\n",
        "\n",
        "List: [4, 5, 6, 7, 0, 1, 2]\n",
        "Target: 0\n",
        "\n",
        "Step-by-Step Execution:\n",
        "\n",
        "Initialization:\n",
        "left = 0, right = 6 (indices)\n",
        "nums[left] = 4, nums[right] = 2\n",
        "\n",
        "First Iteration:\n",
        "mid = (0 + 6) // 2 = 3\n",
        "nums[mid] = 7\n",
        "target (0) != 7\n",
        "\n",
        "Check Left Sorted Half:\n",
        "nums[left] (4) <= nums[mid] (7) → True (Left half [4, 5, 6, 7] is sorted)\n",
        "target (0) > nums[mid] (7) → False\n",
        "target (0) < nums[left] (4) → True\n",
        "Since target is not in the sorted left half, search in the right half: set left = mid + 1 = 4\n",
        "\n",
        "Second Iteration:\n",
        "left = 4, right = 6\n",
        "mid = (4 + 6) // 2 = 5\n",
        "nums[mid] = nums[5] = 1\n",
        "target (0) != 1\n",
        "\n",
        "Check Left Sorted Half:\n",
        "nums[left] (0) <= nums[mid] (1) → True (Left half [0, 1] is sorted)\n",
        "target (0) > nums[mid] (1) → False\n",
        "target (0) < nums[left] (0) → False\n",
        "Since target could be in the left sorted half, search in the left half: set right = mid - 1 = 4\n",
        "\n",
        "Third Iteration:\n",
        "left = 4, right = 4\n",
        "mid = (4 + 4) // 2 = 4\n",
        "nums[mid] = 0\n",
        "target (0) == 0 → Match found!\n",
        "\n",
        "Return: 4\n",
        "\n",
        "Output:\n",
        "4\n",
        "\"\"\""
      ],
      "metadata": {
        "id": "RDxK6fyD8fDy"
      },
      "execution_count": null,
      "outputs": []
    },
    {
      "cell_type": "code",
      "source": [],
      "metadata": {
        "id": "c8XdlhzwXgIa"
      },
      "execution_count": null,
      "outputs": []
    },
    {
      "cell_type": "code",
      "source": [],
      "metadata": {
        "id": "rHdjna68XgLt"
      },
      "execution_count": null,
      "outputs": []
    },
    {
      "cell_type": "code",
      "source": [
        "# video 32\n",
        "class listNode:\n",
        "  def __init__(self, x):\n",
        "    self.val = x\n",
        "    self.next = None\n",
        "\n",
        "class Solution25:\n",
        "  def merge_k_lists(self, lists: list[listNode]) -> listNode:\n",
        "    self.node = []\n",
        "    dummy = head = listNode(0)\n",
        "    for l in lists:\n",
        "      while l:\n",
        "        self.node.append(l.val)\n",
        "        l = l.next\n",
        "    for x in sorted(self.node):\n",
        "      dummy.next = listNode(x)\n",
        "      dummy = dummy.next\n",
        "    return head.next\n",
        "\n",
        "try25 = Solution25()\n",
        "# Corrected the way listNode objects are created and linked\n",
        "list1 = listNode(1)\n",
        "list1.next = listNode(4)\n",
        "list1.next.next = listNode(5)\n",
        "\n",
        "list2 = listNode(1)\n",
        "list2.next = listNode(3)\n",
        "list2.next.next = listNode(4)\n",
        "\n",
        "list3 = listNode(2)\n",
        "list3.next = listNode(6)\n",
        "\n",
        "merged_list = try25.merge_k_lists([list1, list2, list3])\n",
        "\n",
        "current = merged_list\n",
        "while current:\n",
        "  if current.next:\n",
        "    print(current.val, end=\" -> \")\n",
        "  else:\n",
        "    print(current.val, end=\"\")\n",
        "  current = current.next"
      ],
      "metadata": {
        "id": "KO0S4Oj24o2G",
        "colab": {
          "base_uri": "https://localhost:8080/"
        },
        "outputId": "c657a1e0-e1d3-45d9-a350-74eaabdd35e6"
      },
      "execution_count": null,
      "outputs": [
        {
          "output_type": "stream",
          "name": "stdout",
          "text": [
            "1 -> 1 -> 2 -> 3 -> 4 -> 4 -> 5 -> 6"
          ]
        }
      ]
    },
    {
      "cell_type": "code",
      "source": [],
      "metadata": {
        "id": "5KxXQ2SbWjUy"
      },
      "execution_count": null,
      "outputs": []
    },
    {
      "cell_type": "code",
      "source": [],
      "metadata": {
        "id": "d5wFnms84pnC"
      },
      "execution_count": null,
      "outputs": []
    },
    {
      "cell_type": "code",
      "source": [
        "# video 31\n",
        "\"\"\"\n",
        "Understanding the Code's Logic\n",
        "\n",
        "The code aims to find the total count of squares in a binary matrix.\n",
        "It uses a dynamic programming approach where ansmatrix[i][j] stores the size of the largest square submatrix with its bottom-right corner at matrix[i-1][j-1]\n",
        "(since the code uses 1-indexing for ansmatrix while matrix is 0-indexed as per Python's standard).\n",
        "\n",
        "Detailed Explanation Using Your Example\n",
        "\n",
        "Let's analyze with the given example matrix:\n",
        "\n",
        "\n",
        "[[1, 1],\n",
        " [1, 1]]\n",
        "Initialization\n",
        "\n",
        "We initialize an ansmatrix with dimensions (n+1) x (m+1) where n is the number of rows and m is the number of columns in the matrix.\n",
        "Initially, all elements are set to 0. For our example, n=2 and m=2, so ansmatrix is 3x3.\n",
        "\n",
        "\n",
        "ansmatrix = [[0, 0, 0],\n",
        "             [0, 0, 0],\n",
        "             [0, 0, 0]]\n",
        "Iteration and Calculation\n",
        "\n",
        "We iterate through the matrix (using 1-based indexing for ansmatrix to match the code) and calculate the values for ansmatrix.\n",
        "\n",
        "Cell (1,1) or matrix[0][0]\n",
        "matrix[0][0] is 1.\n",
        "We look at the left, top, and diagonal top-left cells in ansmatrix: ansmatrix[1][0], ansmatrix[0][1], ansmatrix[0][0], all of which are 0.\n",
        "ansmatrix[1][1] = 1 + min(ansmatrix[1][0], ansmatrix[0][1], ansmatrix[0][0]) = 1 + min(0, 0, 0) = 1.\n",
        "ansmatrix becomes:\n",
        "\n",
        "[[0, 0, 0],\n",
        " [0, 1, 0],\n",
        " [0, 0, 0]]\n",
        "Cell (1,2) or matrix[0][1]\n",
        "matrix[0][1] is 1.\n",
        "We look at ansmatrix[1][1], ansmatrix[0][2], ansmatrix[0][1]. Since ansmatrix[0][2] is out of bounds, we ignore it (or consider it 0 as per the initialization).\n",
        "ansmatrix[1][2] = 1 + min(ansmatrix[1][1], ansmatrix[0][2], ansmatrix[0][1]) = 1 + min(1, 0, 0) = 1.\n",
        "ansmatrix becomes:\n",
        "\n",
        "[[0, 0, 0],\n",
        " [0, 1, 1],\n",
        " [0, 0, 0]]\n",
        "Cell (2,1) or matrix[1][0]\n",
        "matrix[1][0] is 1.\n",
        "We look at ansmatrix[2][0], ansmatrix[1][1], ansmatrix[1][0]. ansmatrix[2][0] is out of bounds, so we ignore it (or consider it 0).\n",
        "ansmatrix[2][1] = 1 + min(ansmatrix[2][0], ansmatrix[1][1], ansmatrix[1][0]) = 1 + min(0, 1, 0) = 1.\n",
        "ansmatrix becomes:\n",
        "\n",
        "[[0, 0, 0],\n",
        " [0, 1, 1],\n",
        " [0, 1, 0]]\n",
        "Cell (2,2) or matrix[1][1]\n",
        "matrix[1][1] is 1.\n",
        "We look at ansmatrix[2][1], ansmatrix[1][2], ansmatrix[1][1].\n",
        "ansmatrix[2][2] = 1 + min(ansmatrix[2][1], ansmatrix[1][2], ansmatrix[1][1]) = 1 + min(1, 1, 1) = 1 + 1 = 2.\n",
        "ansmatrix becomes:\n",
        "\n",
        "[[0, 0, 0],\n",
        " [0, 1, 1],\n",
        " [0, 1, 2]]\n",
        "\n",
        "\"\"\"\n",
        "# video 31\n",
        "class Solution24:\n",
        "  def count_squares(self, matrix: list[list[int]]) -> int:\n",
        "    n = len(matrix)\n",
        "    m = len(matrix[0])\n",
        "    ansmatrix = [[0]*(m+1) for _ in range(n+1)]\n",
        "    count = 0\n",
        "    for row in range(1, n+1):\n",
        "      for col in range(1, m+1):\n",
        "        if matrix[row - 1][col -1] == 1:\n",
        "          ansmatrix[row][col] = 1 + min(ansmatrix[row][col -1], ansmatrix[row - 1][col], ansmatrix[row - 1][col - 1])\n",
        "          count += ansmatrix[row][col]\n",
        "          #print(count)\n",
        "\n",
        "    return count\n",
        "\n",
        "try24 = Solution24()\n",
        "print(try24.count_squares([[0,1,1,1],[1,1,1,1],[0,1,1,1]]))"
      ],
      "metadata": {
        "colab": {
          "base_uri": "https://localhost:8080/"
        },
        "id": "empldmngtqjC",
        "outputId": "69775493-1f84-48ab-e5fc-3b8624aa1c5c"
      },
      "execution_count": null,
      "outputs": [
        {
          "output_type": "stream",
          "name": "stdout",
          "text": [
            "15\n"
          ]
        }
      ]
    },
    {
      "cell_type": "code",
      "source": [],
      "metadata": {
        "id": "CzD4W0k80KdH"
      },
      "execution_count": null,
      "outputs": []
    },
    {
      "cell_type": "code",
      "source": [],
      "metadata": {
        "id": "8G-VsbJVtrkf"
      },
      "execution_count": null,
      "outputs": []
    },
    {
      "cell_type": "code",
      "source": [
        "# video 30\n",
        "class Solution23:\n",
        "  def intersect(self, nums1: list[int], nums2: list[int]) -> list[int]:\n",
        "    i = 0\n",
        "    j = 0\n",
        "    result = []\n",
        "    nums1.sort()\n",
        "    nums2.sort()\n",
        "    while i < len(nums1) and j < len(nums2):\n",
        "      if nums1[i] == nums2[j]:\n",
        "        result.append(nums1[i])\n",
        "        i += 1\n",
        "        j += 1\n",
        "      elif nums1[i] < nums2[j]:\n",
        "        i += 1\n",
        "      else:\n",
        "        j += 1\n",
        "    return result\n",
        "\n",
        "try23 = Solution23()\n",
        "print(try23.intersect([1,2,2,1], [2,2]))\n",
        "#print(try23.intersect([1,2,2,4,9,3,3], [4,9]))"
      ],
      "metadata": {
        "id": "jTlyuWFGda_T",
        "colab": {
          "base_uri": "https://localhost:8080/"
        },
        "outputId": "23079e34-f645-403c-d405-d69c4fbb77f4"
      },
      "execution_count": null,
      "outputs": [
        {
          "output_type": "stream",
          "name": "stdout",
          "text": [
            "[4, 9]\n"
          ]
        }
      ]
    },
    {
      "cell_type": "code",
      "source": [],
      "metadata": {
        "id": "iPG8gPuzsMch"
      },
      "execution_count": null,
      "outputs": []
    },
    {
      "cell_type": "code",
      "source": [],
      "metadata": {
        "id": "0Ky5GTVSdcAE"
      },
      "execution_count": null,
      "outputs": []
    },
    {
      "cell_type": "code",
      "source": [
        "# video 29\n",
        "class solution22:\n",
        "  \"\"\"\n",
        "  5 = 5\n",
        "  5 = 2 + 2 + 1\n",
        "  5 = 2 + 1 + 1 + 1\n",
        "  5 = 1 + 1 + 1 + 1 + 1\n",
        "  dp[3] += dp[3 - 2], which is dp[3] += dp[1].\n",
        "  dp[3 - 2] if I subtract coin 2 to X to make value of 3, then add it to dp[1].\n",
        "  \"\"\"\n",
        "  def change(self, amount: int, coins: list[int]) -> int:\n",
        "    dp = [0] * (amount + 1)\n",
        "    dp[0] = 1\n",
        "\n",
        "    for coin in coins:\n",
        "      for x in range(coin, amount + 1):\n",
        "        dp[x] += dp[x - coin]\n",
        "\n",
        "    return dp[amount]\n",
        "\n",
        "try22 = solution22()\n",
        "print(try22.change(5, [1,2,5]))"
      ],
      "metadata": {
        "colab": {
          "base_uri": "https://localhost:8080/"
        },
        "id": "oAq3bq5drqU5",
        "outputId": "1da4754d-9545-4a5a-8e9c-ce40aa8ad913"
      },
      "execution_count": null,
      "outputs": [
        {
          "output_type": "stream",
          "name": "stdout",
          "text": [
            "4\n"
          ]
        }
      ]
    },
    {
      "cell_type": "code",
      "source": [],
      "metadata": {
        "id": "ynXj1abFsLjY"
      },
      "execution_count": null,
      "outputs": []
    },
    {
      "cell_type": "markdown",
      "source": [
        "What dp Represents\n",
        "\n",
        "dp is a list (or array) where each index represents a target amount, and the value at that index represents the number of ways to make that target amount using the coins we have considered so far.\n",
        "\n",
        "For example, dp[3] represents the number of ways to make the amount 3 using the coins we have considered up to that point in the algorithm.\n",
        "What dp[3] += dp[1] Does\n",
        "\n",
        "When we execute dp[3] += dp[1], we are performing the following operation:\n",
        "\n",
        "Accessing Values: We are retrieving the current value of dp[3] and the value of dp[1].\n",
        "\n",
        "Addition: We are adding the value of dp[1] to the current value of dp[3].\n",
        "Updating dp[3]: We are storing the result back into dp[3].\n",
        "\n",
        "Meaning in the Coin Change Problem\n",
        "\n",
        "In the specific context of the line dp[3] += dp[1] when we are considering the coin value 2:\n",
        "\n",
        "dp[3] represents the current number of ways we know to make the amount 3 using the coins we have considered so far (which would be coins 1 and potentially 2 from previous iterations).\n",
        "\n",
        "dp[1] represents the number of ways to make the amount 1 (using the coins considered so far). In this case, it represents the number of ways to make 1 using only coin 1, which is 1.\n",
        "\n",
        "dp[3 - 2] or dp[1] looks at the \"remaining amount\" after using coin 2 to reach the amount 3. Basically, we're asking: if we use a coin of value 2 to get closer to 3, what's left to make (which is 1)?\n",
        "\n",
        "By adding dp[1] to dp[3], we are adding the number of ways to make 1 to the current number of ways to make 3. This accounts for the new combinations we get by using coin 2 along with existing combinations for amount 1.\n",
        "\n",
        "FOR COIN 2:\n",
        "\n",
        "For x = 3:\n",
        "\n",
        "dp[3] += dp[3 - 2], which is dp[3] += dp[1].\n",
        "\n",
        "dp[1] is 1 (from the processing of coin 1), so dp[3] becomes 1 + 1 = 2.\n",
        "\n",
        "This means there are now two ways to make 3: [1, 1, 1] (using only coin 1) and [1, 2] (using coin 1 and coin 2).\n"
      ],
      "metadata": {
        "id": "-BQN6wCubiPZ"
      }
    },
    {
      "cell_type": "code",
      "source": [],
      "metadata": {
        "id": "Wp2bCtQaJ0OE"
      },
      "execution_count": null,
      "outputs": []
    },
    {
      "cell_type": "code",
      "source": [],
      "metadata": {
        "id": "sMG42Ou9rrch"
      },
      "execution_count": null,
      "outputs": []
    },
    {
      "cell_type": "code",
      "source": [
        "# video 28\n",
        "class Solution21:\n",
        "  def max_subarray_sum_circular(self, A: list[int]) -> int:\n",
        "    k = self.Kadane(A)\n",
        "\n",
        "    CS= 0\n",
        "    for i in range(len(A)):\n",
        "      CS += A[i]\n",
        "      A[i] = -A[i]\n",
        "    CS = CS + self.Kadane(A)\n",
        "    if CS > k and CS != 0:\n",
        "      return CS\n",
        "    else:\n",
        "      return k\n",
        "\n",
        "  def Kadane(self, nums):\n",
        "    cursum, maxsum = nums[0], nums[0]\n",
        "    for n in nums[1:]:\n",
        "      cursum = max(n, cursum + n)\n",
        "      maxsum = max(cursum, maxsum)\n",
        "    return maxsum\n",
        "\n",
        "try21 = Solution21()\n",
        "#print(try21.max_subarray_sum_circular([1,-2,3,-2]))# expected output:3\n",
        "print(try21.max_subarray_sum_circular([1,-2,3,3]))# expected output:7"
      ],
      "metadata": {
        "colab": {
          "base_uri": "https://localhost:8080/"
        },
        "id": "FlngWQ9eY8LG",
        "outputId": "ac7a6d15-8b2c-4be8-cfe4-6bfdfae5dde1"
      },
      "execution_count": null,
      "outputs": [
        {
          "output_type": "stream",
          "name": "stdout",
          "text": [
            "7\n"
          ]
        }
      ]
    },
    {
      "cell_type": "code",
      "source": [],
      "metadata": {
        "id": "UUFBx-3KqJgH"
      },
      "execution_count": null,
      "outputs": []
    },
    {
      "cell_type": "code",
      "source": [],
      "metadata": {
        "id": "99v4CZrcY9QH"
      },
      "execution_count": null,
      "outputs": []
    },
    {
      "cell_type": "code",
      "source": [
        "# video 27\n",
        "class TreeNode:\n",
        "  def __init__(self, v):\n",
        "    self.val = v\n",
        "    self.children = {}\n",
        "    self.end_here = False\n",
        "\n",
        "class Solution20:\n",
        "  def __init__(self):\n",
        "    self.root = TreeNode(None)\n",
        "\n",
        "  def insert(self, word: str):\n",
        "    parent = self.root\n",
        "    for i, char in enumerate(word):\n",
        "      if char not in parent.children:\n",
        "        parent.children[char] = TreeNode(char)\n",
        "      parent = parent.children[char]\n",
        "      if i == len(word) - 1:\n",
        "        parent.end_here = True\n",
        "\n",
        "  def search(self, word: str):\n",
        "    parent = self.root\n",
        "    for char in word:\n",
        "      if char not in parent.children:\n",
        "        return False\n",
        "      parent = parent.children[char]\n",
        "    return parent.end_here\n",
        "\n",
        "  def starts_with(self, prefix:str):\n",
        "    parent = self.root\n",
        "    for char in prefix:\n",
        "      if char not in parent.children:\n",
        "        return False\n",
        "      parent = parent.children[char]\n",
        "    return True\n",
        "try20 = Solution20()\n",
        "try20.insert(\"apple\")# inserting the word \"apple\"\n",
        "print(try20.search(\"apple\"))\n",
        "print(try20.search(\"app\"))\n",
        "print(try20.starts_with(\"app\"))"
      ],
      "metadata": {
        "colab": {
          "base_uri": "https://localhost:8080/"
        },
        "id": "Dog6QagyndXf",
        "outputId": "d26dfba3-0665-417a-f6ec-597bd342f33c"
      },
      "execution_count": null,
      "outputs": [
        {
          "output_type": "stream",
          "name": "stdout",
          "text": [
            "True\n",
            "False\n",
            "True\n"
          ]
        }
      ]
    },
    {
      "cell_type": "code",
      "source": [],
      "metadata": {
        "id": "GpAOYQ6snejm"
      },
      "execution_count": null,
      "outputs": []
    },
    {
      "cell_type": "code",
      "source": [],
      "metadata": {
        "id": "yPwGe-1Ine1H"
      },
      "execution_count": null,
      "outputs": []
    },
    {
      "cell_type": "code",
      "source": [
        "# video 26\n",
        "class listNode:\n",
        "  def __init__(self, val=0, next=None):\n",
        "    self.val = val\n",
        "    self.next = next\n",
        "\n",
        "class Solution19:\n",
        "  def swap_pairs(self, head: listNode) -> listNode:\n",
        "    d1 = d = listNode(0)\n",
        "    d.next = head\n",
        "    while d.next and d.next.next:\n",
        "      p = d.next\n",
        "      q = d.next.next\n",
        "      d.next, p.next, q.next = q, q.next, p\n",
        "      d = p\n",
        "    return d1.next\n",
        "\n",
        "try19 = Solution19()\n",
        "head = listNode(1)\n",
        "head.next = listNode(2)\n",
        "head.next.next = listNode(3)\n",
        "head.next.next.next = listNode(4)\n",
        "result = try19.swap_pairs(head)\n",
        "while result:\n",
        "  print(result.val, end=\" \")\n",
        "  result = result.next"
      ],
      "metadata": {
        "id": "uu1LndEXjzy_",
        "colab": {
          "base_uri": "https://localhost:8080/"
        },
        "outputId": "4fc7a347-148d-4fd0-ae77-abc410fa4a6a"
      },
      "execution_count": null,
      "outputs": [
        {
          "output_type": "stream",
          "name": "stdout",
          "text": [
            "2 1 4 3 "
          ]
        }
      ]
    },
    {
      "cell_type": "code",
      "source": [],
      "metadata": {
        "id": "uteFTJe5f8XG"
      },
      "execution_count": null,
      "outputs": []
    },
    {
      "cell_type": "code",
      "source": [],
      "metadata": {
        "id": "4THjWKV8j0pV"
      },
      "execution_count": null,
      "outputs": []
    },
    {
      "cell_type": "code",
      "source": [
        "# video 25\n",
        "from collections import Counter\n",
        "\n",
        "class Solution18:\n",
        "  def check_inclusion(self, s1: str, s2: str) -> bool:\n",
        "    if len(s1) > len(s2):\n",
        "      return False\n",
        "    length_s1 = len(s1)\n",
        "    s1_counter = Counter(s1)\n",
        "    window_counter = Counter()\n",
        "    for i, c in enumerate(s2):\n",
        "        window_counter[c] += 1\n",
        "        if i >= length_s1:\n",
        "          element_from_left = s2[i - length_s1]\n",
        "          if window_counter[element_from_left] == 1:\n",
        "            del window_counter[element_from_left]\n",
        "          else:\n",
        "            window_counter[element_from_left] -= 1\n",
        "        if window_counter == s1_counter:\n",
        "          return True\n",
        "    return False\n",
        "try18 = Solution18()\n",
        "print(try18.check_inclusion(\"ab\", \"eidbaooo\"))"
      ],
      "metadata": {
        "id": "i2aOgxL9kDgT",
        "colab": {
          "base_uri": "https://localhost:8080/"
        },
        "outputId": "fdec49ec-6740-4835-c88b-59956ff18db2"
      },
      "execution_count": null,
      "outputs": [
        {
          "output_type": "stream",
          "name": "stdout",
          "text": [
            "True\n"
          ]
        }
      ]
    },
    {
      "cell_type": "markdown",
      "source": [
        "element_from_left = s2[i - length_s1]\n",
        "\n",
        "Initial Window:\n",
        "\n",
        "At i = 0, window_counter = {'e': 1}\n",
        "\n",
        "At i = 1, window_counter = {'e': 1, 'i': 1}\n",
        "\n",
        "At i = 2, window_counter = {'e': 1, 'i': 1, 'd': 1} (window is now full)\n",
        "\n",
        "because lenght of s1 is 2: 0,1,2 = 3\n",
        "\n",
        "Sliding the Window:\n",
        "\n",
        "At i = 3, window_counter = {'i': 1, 'd': 1, 'b': 1} (remove 'e' and add 'b')\n",
        "\n",
        "At i = 4, window_counter = {'d': 1, 'b': 1, 'a': 1} (remove 'i' and add 'a')\n",
        "\n",
        "At i = 5, window_counter = {'b': 1, 'a': 1, 'o': 1} (remove 'd' and add 'o')"
      ],
      "metadata": {
        "id": "HNRC-iXxjNTj"
      }
    },
    {
      "cell_type": "code",
      "source": [],
      "metadata": {
        "id": "ql7NFZpbbRK_"
      },
      "execution_count": null,
      "outputs": []
    },
    {
      "cell_type": "code",
      "source": [],
      "metadata": {
        "id": "3DQoeBXSkE7F"
      },
      "execution_count": null,
      "outputs": []
    },
    {
      "cell_type": "markdown",
      "source": [
        "VIDEO 24 num islands i + 1 moving down"
      ],
      "metadata": {
        "id": "Z6rubC8Ta3Se"
      }
    },
    {
      "cell_type": "code",
      "source": [
        "# video 24\n",
        "class Solution17:\n",
        "  def num_islands(self, grid: list[list[str]]) -> int:\n",
        "    if not grid:\n",
        "      return 0\n",
        "    count = 0\n",
        "    for i in range(len(grid)):\n",
        "      for j in range(len(grid[0])):\n",
        "        if grid[i][j] == '1':\n",
        "          self.dfs(grid, i, j)\n",
        "          count += 1\n",
        "\n",
        "    return count\n",
        "\n",
        "\n",
        "  def dfs(self, grid, i, j):\n",
        "    if i < 0 or j < 0 or i >= len(grid) or j >= len(grid[0]) or grid[i][j] != '1':\n",
        "      return\n",
        "    grid[i][j] = '0'\n",
        "    self.dfs(grid, i+1, j)\n",
        "    self.dfs(grid, i-1, j)\n",
        "    self.dfs(grid, i, j+1)\n",
        "    self.dfs(grid, i, j-1)\n",
        "\n",
        "try17 = Solution17()\n",
        "grid = [\n",
        "  [\"1\",\"1\",\"1\",\"1\",\"0\"],\n",
        "  [\"1\",\"1\",\"0\",\"1\",\"0\"],\n",
        "  [\"1\",\"1\",\"0\",\"0\",\"0\"],\n",
        "  [\"0\",\"0\",\"0\",\"0\",\"0\"]\n",
        "]\n",
        "print(try17.num_islands(grid))"
      ],
      "metadata": {
        "colab": {
          "base_uri": "https://localhost:8080/"
        },
        "id": "OEvLejWPxqFn",
        "outputId": "fee34e46-12b5-431e-fac3-0184b941d73a"
      },
      "execution_count": null,
      "outputs": [
        {
          "output_type": "stream",
          "name": "stdout",
          "text": [
            "1\n"
          ]
        }
      ]
    },
    {
      "cell_type": "markdown",
      "source": [
        "Directions Explained:\n",
        "\n",
        "self.dfs(grid, i+1, j): This line moves the traversal down by incrementing the row index i by 1. This means you're exploring the cell directly below the current cell.\n",
        "\n",
        "self.dfs(grid, i-1, j): This line moves the traversal up by decrementing the row index i by 1. This means you're exploring the cell directly above the current cell.\n",
        "\n",
        "self.dfs(grid, i, j+1): This line moves the traversal right by incrementing the column index j by 1. This means you're exploring the cell directly to the right of the current cell.\n",
        "\n",
        "self.dfs(grid, i, j-1): This line moves the traversal left by decrementing the column index j by 1. This means you're exploring the cell directly to the left of the current cell."
      ],
      "metadata": {
        "id": "34A2pRtR8tf1"
      }
    },
    {
      "cell_type": "code",
      "source": [],
      "metadata": {
        "id": "BCq_hyFqhzg5"
      },
      "execution_count": null,
      "outputs": []
    },
    {
      "cell_type": "code",
      "source": [],
      "metadata": {
        "id": "PhecwvVSPraP"
      },
      "execution_count": null,
      "outputs": []
    },
    {
      "cell_type": "code",
      "source": [
        "# video 23\n",
        "# Depth-First Search (DFS)\n",
        "class Solution16:\n",
        "  def has_path(self, maze: list[list[int]], start: list[int], destination: list[int]) -> bool:\n",
        "    m, n = len(maze), len(maze[0])\n",
        "    visited = set()\n",
        "\n",
        "    def dfs(x, y) -> bool:\n",
        "        if (x, y) in visited:\n",
        "            return False\n",
        "        visited.add((x, y))\n",
        "        if [x, y] == destination:\n",
        "            return True\n",
        "        for i, j in [(0, -1), (0, 1), (-1, 0), (1, 0)]:\n",
        "            new_X, new_Y = x, y\n",
        "            while 0 <= new_X + i < m and 0 <= new_Y + j < n and maze[new_X + i][new_Y + j] != 1:\n",
        "                new_X += i\n",
        "                new_Y += j\n",
        "            if dfs(new_X, new_Y):\n",
        "                return True\n",
        "        return False\n",
        "    return dfs(*start)\n",
        "\n",
        "try16 = Solution16()\n",
        "maze = [[0,0,1,0,0],[0,0,0,0,0],[0,0,0,1,0],[1,1,0,1,1],[0,0,0,0,0]]\n",
        "start_point = [0,4]\n",
        "destination_point = [4,4]\n",
        "print(try16.has_path(maze, start_point, destination_point))  # Expected output: True"
      ],
      "metadata": {
        "colab": {
          "base_uri": "https://localhost:8080/"
        },
        "id": "laaYIOInFsr0",
        "outputId": "84c3720f-6fbe-4851-dcdb-1133f71440d5"
      },
      "execution_count": null,
      "outputs": [
        {
          "output_type": "stream",
          "name": "stdout",
          "text": [
            "True\n"
          ]
        }
      ]
    },
    {
      "cell_type": "code",
      "source": [],
      "metadata": {
        "id": "dA1GDFQsPWlB"
      },
      "execution_count": null,
      "outputs": []
    },
    {
      "cell_type": "code",
      "source": [],
      "metadata": {
        "id": "tvOsiEz2xq_L"
      },
      "execution_count": null,
      "outputs": []
    },
    {
      "cell_type": "code",
      "source": [
        "# video 22\n",
        "class TreeNode:\n",
        "  def __init__(self, val=0, left=None, right=None):\n",
        "    self.val = val\n",
        "    self.left = left\n",
        "    self.right = right\n",
        "\n",
        "class Solution15:\n",
        "  def diameter_binary_tree(self, root: TreeNode) -> int:\n",
        "    if root is None:\n",
        "      return 0\n",
        "    left_height = self.height(root.left)\n",
        "    right_height = self.height(root.right)\n",
        "    left_diameter = self.diameter_binary_tree(root.left)\n",
        "    right_diameter = self.diameter_binary_tree(root.right)\n",
        "    return max(left_height + right_height, max(left_diameter, right_diameter))\n",
        "\n",
        "  def height(self, root):\n",
        "    if root is None:\n",
        "      return 0\n",
        "    else:\n",
        "      return 1 + max(self.height(root.left), self.height(root.right))\n",
        "\n",
        "try15 = Solution15()\n",
        "root = TreeNode(1)\n",
        "root.left = TreeNode(2)\n",
        "root.right = TreeNode(3)\n",
        "root.left.left = TreeNode(4)\n",
        "root.left.right = TreeNode(5)\n",
        "print(try15.diameter_binary_tree(root))"
      ],
      "metadata": {
        "colab": {
          "base_uri": "https://localhost:8080/"
        },
        "id": "LUd_e5jXPN_v",
        "outputId": "90a0c25b-b4e7-4e3c-df2d-b8bfbad87019"
      },
      "execution_count": null,
      "outputs": [
        {
          "output_type": "stream",
          "name": "stdout",
          "text": [
            "3\n"
          ]
        }
      ]
    },
    {
      "cell_type": "code",
      "source": [],
      "metadata": {
        "id": "y_t0x7cDtRsd"
      },
      "execution_count": null,
      "outputs": []
    },
    {
      "cell_type": "code",
      "source": [],
      "metadata": {
        "id": "YPazaia5tPud"
      },
      "execution_count": null,
      "outputs": []
    },
    {
      "cell_type": "code",
      "source": [
        "import random\n",
        "# video 21\n",
        "class Solution14:\n",
        "  def __init__(self, w: list[int]):\n",
        "    self.prefix_sum = []\n",
        "    prefix_sum = 0\n",
        "    for weight in w:\n",
        "      prefix_sum += weight\n",
        "      self.prefix_sum.append(prefix_sum)\n",
        "    self.total_sum = prefix_sum\n",
        "\n",
        "  def pick_index(self) -> int:\n",
        "    random_num = self.total_sum * random.random()\n",
        "    low, high = 0, len(self.prefix_sum)\n",
        "    while low < high:\n",
        "      mid = low + (high - low) // 2\n",
        "      if random_num > self.prefix_sum[mid]:\n",
        "        low = mid + 1\n",
        "      else:\n",
        "        high = mid\n",
        "    return low\n",
        "\n",
        "try14 = Solution14([1,3, 4])\n",
        "print(try14.pick_index())"
      ],
      "metadata": {
        "colab": {
          "base_uri": "https://localhost:8080/"
        },
        "id": "nJ8Pe-j0JZaz",
        "outputId": "0abd2617-58ca-41cb-b975-2e6bae9c4f29"
      },
      "execution_count": null,
      "outputs": [
        {
          "output_type": "stream",
          "name": "stdout",
          "text": [
            "2\n"
          ]
        }
      ]
    },
    {
      "cell_type": "markdown",
      "source": [
        "Let's consider the example where w = [1, 3, 4]:\n",
        "\n",
        "The prefix sums are calculated as follows:\n",
        "\n",
        "prefix_sum[0] = 1\n",
        "\n",
        "prefix_sum[1] = 1 + 3 = 4\n",
        "\n",
        "prefix_sum[2] = 1 + 3 + 4 = 8\n",
        "\n",
        "So, self.prefix_sum will be [1, 4, 8] and self.total_sum will be 8.\n",
        "\n",
        "Now, let's understand the pick_index method with this specific example:\n",
        "\n",
        "random_num = self.total_sum * random.random() generates a random floating-point number between 0 and 8.\n",
        "For instance, let's say random_num is 5.67.\n",
        "\n",
        "The binary search works as follows:\n",
        "\n",
        "Initially, low = 0 and high = 3 (length of self.prefix_sum).\n",
        "The midpoint mid is calculated as low + (high - low) // 2, which is 1.\n",
        "\n",
        "Compare random_num with self.prefix_sum[mid]:\n",
        "If random_num > self.prefix_sum[mid], update low = mid + 1.\n",
        "If random_num <= self.prefix_sum[mid], update high = mid.\n",
        "\n",
        "In our example:\n",
        "\n",
        "mid = 1, self.prefix_sum[1] = 4.\n",
        "\n",
        "Since 5.67 > 4, update low = 2.\n",
        "\n",
        "Now, low = 2 and high = 3.\n",
        "\n",
        "mid = 2, self.prefix_sum[2] = 8.\n",
        "\n",
        "Since 5.67 < 8, update high = 2.\n",
        "\n",
        "At this point, low = 2 and high = 2, so the function returns low, which is 2."
      ],
      "metadata": {
        "id": "ry5A-16jaioS"
      }
    },
    {
      "cell_type": "code",
      "source": [],
      "metadata": {
        "id": "X89hUN9HtM9W"
      },
      "execution_count": null,
      "outputs": []
    },
    {
      "cell_type": "code",
      "source": [],
      "metadata": {
        "id": "aejxErJwJaiK"
      },
      "execution_count": null,
      "outputs": []
    },
    {
      "cell_type": "code",
      "source": [
        "from collections import Counter\n",
        "#video 20\n",
        "class Solution13:\n",
        "  \"\"\"\n",
        "  try13.find_anagrams(\"cbaebabacd\", \"abc\")\n",
        "  \"cba\" vs \"abc\" begins at index 0\n",
        "  \"bac\" vs \"abc\" begins at index 6\n",
        "  return [0, 6]\n",
        "  \"\"\"\n",
        "  def find_anagrams(self, s:str, p:str) -> list[int]:\n",
        "    s_len, p_len = len(s), len(p)\n",
        "    if s_len < p_len:\n",
        "      return []\n",
        "\n",
        "    p_count = Counter(p)\n",
        "    s_count = Counter()\n",
        "    result = []\n",
        "    for i in range(s_len):\n",
        "      s_count[s[i]] += 1\n",
        "      if i >= p_len:\n",
        "        if s_count[s[i-p_len]] == 1:\n",
        "          del s_count[s[i-p_len]]\n",
        "        else:\n",
        "          s_count[s[i-p_len]] -= 1\n",
        "      if p_count == s_count:\n",
        "        result.append(i-p_len+1)\n",
        "    return result\n",
        "\n",
        "try13 = Solution13()\n",
        "print(try13.find_anagrams(\"cbaebabacd\", \"abc\"))"
      ],
      "metadata": {
        "id": "KZeW-LEXu5f8",
        "colab": {
          "base_uri": "https://localhost:8080/"
        },
        "outputId": "fb75b085-bc50-4777-9fc1-07a217d40593"
      },
      "execution_count": null,
      "outputs": [
        {
          "output_type": "stream",
          "name": "stdout",
          "text": [
            "[0, 6]\n"
          ]
        }
      ]
    },
    {
      "cell_type": "code",
      "source": [],
      "metadata": {
        "id": "IIhvkJnwH2U2"
      },
      "execution_count": null,
      "outputs": []
    },
    {
      "cell_type": "code",
      "source": [],
      "metadata": {
        "id": "5bD3X46skm7Z"
      },
      "execution_count": null,
      "outputs": []
    },
    {
      "cell_type": "code",
      "source": [
        "class Solution12:\n",
        "    def two_sum(self, nums: list[int], target: int) -> list[int]:\n",
        "        if len(nums) <= 0:\n",
        "            return False\n",
        "        num_index = {}\n",
        "        for i in range(len(nums)):\n",
        "            # Print the current state of the dictionary before checking or adding\n",
        "            print(f\"Current dictionary: {num_index}\")\n",
        "            if nums[i] in num_index:\n",
        "                print(f\"Found match: {nums[i]} at index {num_index[nums[i]]} and current index {i}\")\n",
        "                return [num_index[nums[i]], i]\n",
        "            else:\n",
        "                complement = target - nums[i]\n",
        "                print(f\"Adding complement {complement} for number {nums[i]} at index {i}\")\n",
        "                num_index[complement] = i\n",
        "            # Print after adding to see the update\n",
        "            print(f\"Updated dictionary: {num_index}\\n\")\n",
        "        # If no solution is found, we can print or return something to indicate that\n",
        "        print(\"No two sum solution\")\n",
        "        return []  # Return an empty list or some indicator of failure\n",
        "\n",
        "# Example usage\n",
        "try12 = Solution12()\n",
        "print(\"Result:\", try12.two_sum([2,7,11,15], 9))"
      ],
      "metadata": {
        "colab": {
          "base_uri": "https://localhost:8080/"
        },
        "id": "OPk3UUY6jbl2",
        "outputId": "447257df-8d32-4746-ba57-de2127503cf4"
      },
      "execution_count": null,
      "outputs": [
        {
          "output_type": "stream",
          "name": "stdout",
          "text": [
            "Current dictionary: {}\n",
            "Adding complement 7 for number 2 at index 0\n",
            "Updated dictionary: {7: 0}\n",
            "\n",
            "Current dictionary: {7: 0}\n",
            "Found match: 7 at index 0 and current index 1\n",
            "Result: [0, 1]\n"
          ]
        }
      ]
    },
    {
      "cell_type": "code",
      "source": [],
      "metadata": {
        "id": "tG5wOFtgst2b"
      },
      "execution_count": null,
      "outputs": []
    },
    {
      "cell_type": "code",
      "source": [],
      "metadata": {
        "id": "liB_cALBHS56"
      },
      "execution_count": null,
      "outputs": []
    },
    {
      "cell_type": "code",
      "source": [
        "# video 18\n",
        "class Solution11:\n",
        "  def longest_common_subsequence(self, text1: str, text2: str) -> int:\n",
        "    n, m = len(text1), len(text2)\n",
        "    dp = [[0]*(m+1) for z in range(n+1)]\n",
        "    for i in range(n):\n",
        "      for j in range(m):\n",
        "        if text1[i] == text2[j]:\n",
        "          dp[i+1][j+1] = dp[i][j]+1\n",
        "        else:\n",
        "          dp[i+1][j+1] = max(dp[i][j+1], dp[i+1][j])\n",
        "    return dp[-1][-1]\n",
        "\n",
        "try11 = Solution11()\n",
        "print(try11.longest_common_subsequence(\"abcde\", \"ace\"))"
      ],
      "metadata": {
        "id": "9PjGTKZZ4pDg",
        "colab": {
          "base_uri": "https://localhost:8080/"
        },
        "outputId": "f7e5b575-ae95-47b0-aceb-5796b5fcc87d"
      },
      "execution_count": null,
      "outputs": [
        {
          "output_type": "stream",
          "name": "stdout",
          "text": [
            "3\n"
          ]
        }
      ]
    },
    {
      "cell_type": "code",
      "source": [],
      "metadata": {
        "id": "boi9CJz0GD1Y"
      },
      "execution_count": null,
      "outputs": []
    },
    {
      "cell_type": "code",
      "source": [],
      "metadata": {
        "id": "BBMt2fnHDSMQ"
      },
      "execution_count": null,
      "outputs": []
    },
    {
      "cell_type": "code",
      "source": [
        "# related to video 17\n",
        "# to understand LRU Cache\n",
        "from collections import OrderedDict\n",
        "\n",
        "class LRUCache2:\n",
        "    def __init__(self, capacity: int):\n",
        "        self.capacity = capacity\n",
        "        self.cache = OrderedDict()\n",
        "\n",
        "    def get(self, key: int) -> int:\n",
        "        # If key is not in the cache, return -1\n",
        "        if key not in self.cache:\n",
        "            return -1\n",
        "        # Move the key to the end to mark it as recently used\n",
        "        self.cache.move_to_end(key)\n",
        "        return self.cache[key]\n",
        "\n",
        "    def put(self, key: int, value: int) -> None:\n",
        "        # If key already exists, update its value and move to end\n",
        "        if key in self.cache:\n",
        "            self.cache.move_to_end(key)\n",
        "        # Add or update the key-value pair\n",
        "        self.cache[key] = value\n",
        "        # If cache exceeds capacity, remove the least recently used item\n",
        "        if len(self.cache) > self.capacity:\n",
        "            self.cache.popitem(last=False)\n",
        "\n",
        "# Usage example:\n",
        "lru_cache = LRUCache2(2)\n",
        "lru_cache.put(1, 1)\n",
        "lru_cache.put(2, 2)\n",
        "print(lru_cache.get(1))       # returns 1\n",
        "lru_cache.put(3, 3)           # evicts key 2\n",
        "print(lru_cache.get(2))       # returns -1 (not found)\n",
        "lru_cache.put(4, 4)           # evicts key 1\n",
        "print(lru_cache.get(1))       # returns -1 (not found)\n",
        "print(lru_cache.get(3))       # returns 3\n",
        "print(lru_cache.get(4))       # returns 4"
      ],
      "metadata": {
        "colab": {
          "base_uri": "https://localhost:8080/"
        },
        "id": "kv5RzWw1VROZ",
        "outputId": "c4d64675-b6eb-48c1-b03d-d8687fd83bbe"
      },
      "execution_count": null,
      "outputs": [
        {
          "output_type": "stream",
          "name": "stdout",
          "text": [
            "1\n",
            "-1\n",
            "-1\n",
            "3\n",
            "4\n"
          ]
        }
      ]
    },
    {
      "cell_type": "code",
      "source": [
        "# video 17\n",
        "class dll:\n",
        "  def __init__(self, key, val):\n",
        "    self.key = key\n",
        "    self.val = val\n",
        "    self.next = None\n",
        "    self.prev = None\n",
        "\n",
        "class LRUCache:\n",
        "  def __init__(self, capacity: int):\n",
        "    self.head = dll(-1, -1)\n",
        "    self.tail = self.head\n",
        "    self.hash = {}\n",
        "    self.capacity = capacity\n",
        "    self.length = 0\n",
        "\n",
        "  def get(self, key: int) -> int:\n",
        "    if key not in self.hash:\n",
        "      return -1\n",
        "    node = self.hash[key]\n",
        "    val = node.val\n",
        "    while node.next:\n",
        "      node.prev.next = node.next\n",
        "      node.next.prev = node.prev\n",
        "      self.tail.next = node\n",
        "      node.prev = self.tail\n",
        "      node.next = None\n",
        "      self.tail = node\n",
        "    return val\n",
        "\n",
        "  def put(self, key: int, value: int) -> None:\n",
        "    if key in self.hash:\n",
        "      node = self.hash[key]\n",
        "      node.val = value\n",
        "      while node.next:\n",
        "        node.prev.next = node.next\n",
        "        node.next.prev = node.prev\n",
        "        self.tail.next = node\n",
        "        node.prev = self.tail\n",
        "        node.next = None\n",
        "        self.tail = node\n",
        "    else:\n",
        "      node = dll(key, value)\n",
        "      self.hash[key] = node\n",
        "      self.tail.next = node\n",
        "      node.prev = self.tail\n",
        "      self.tail = node\n",
        "      self.length += 1\n",
        "      if self.length > self.capacity:\n",
        "        remove = self.head.next\n",
        "        self.head.next = self.head.next.next\n",
        "        self.head.next.prev = self.head\n",
        "        del self.hash[remove.key]\n",
        "        self.length -= 1\n",
        "\n",
        "try1 = LRUCache(2)\n",
        "try1.put(1, 1)\n",
        "try1.put(2, 2)\n",
        "print(try1.get(1))"
      ],
      "metadata": {
        "colab": {
          "base_uri": "https://localhost:8080/"
        },
        "id": "X0xBp7bvDStN",
        "outputId": "54e1ee01-72ed-4236-ceb7-3b606d281bc7"
      },
      "execution_count": null,
      "outputs": [
        {
          "output_type": "stream",
          "name": "stdout",
          "text": [
            "1\n"
          ]
        }
      ]
    },
    {
      "cell_type": "code",
      "source": [],
      "metadata": {
        "id": "-Osh3VF0DRu1"
      },
      "execution_count": null,
      "outputs": []
    },
    {
      "cell_type": "code",
      "source": [],
      "metadata": {
        "id": "XxMIN26_TOhN"
      },
      "execution_count": null,
      "outputs": []
    },
    {
      "cell_type": "code",
      "source": [
        "# video 16\n",
        "class Solution10:\n",
        "  def merge(self, intervals: list[list[int]]) -> list[list[int]]:\n",
        "\n",
        "    intervals.sort(key=lambda x: x[0])\n",
        "    i = 1\n",
        "    while i < len(intervals):\n",
        "      if intervals[i][0] <= intervals[i-1][1]:\n",
        "        intervals[i-1][0] = min(intervals[i-1][0], intervals[i][0])\n",
        "        intervals[i-1][1] = max(intervals[i-1][1], intervals[i][1])\n",
        "        intervals.pop(i)\n",
        "      else:\n",
        "        i += 1\n",
        "    return intervals\n",
        "\n",
        "try10 = Solution10()\n",
        "print(try10.merge([[1,3],[2,6],[8,10],[9, 11],[12, 13],[15,18]]))"
      ],
      "metadata": {
        "id": "NbwJ_OL3foDJ",
        "colab": {
          "base_uri": "https://localhost:8080/"
        },
        "outputId": "7f42afb2-2fc1-47d8-eb81-766df670a848"
      },
      "execution_count": null,
      "outputs": [
        {
          "output_type": "stream",
          "name": "stdout",
          "text": [
            "[[1, 6], [8, 11], [12, 13], [15, 18]]\n"
          ]
        }
      ]
    },
    {
      "cell_type": "code",
      "source": [],
      "metadata": {
        "id": "DXg2E0LbTNjw"
      },
      "execution_count": null,
      "outputs": []
    },
    {
      "cell_type": "code",
      "source": [],
      "metadata": {
        "id": "b4r7OHr7fo53"
      },
      "execution_count": null,
      "outputs": []
    },
    {
      "cell_type": "code",
      "source": [
        "# video 15\n",
        "class Solution9:\n",
        "  def group_anagrams(self, strs: list[str]) -> list[list[str]]:\n",
        "\n",
        "    dict = {}\n",
        "    for word in strs:\n",
        "      sorted_word = \"\".join(sorted(word))\n",
        "      if sorted_word not in dict:\n",
        "        dict[sorted_word] = [word]\n",
        "      else:\n",
        "        dict[sorted_word].append(word)\n",
        "\n",
        "    result = []\n",
        "    for item in dict.values():\n",
        "      result.append(item)\n",
        "    return result\n",
        "\n",
        "try9 = Solution9()\n",
        "print(try9.group_anagrams([\"eat\",\"tea\",\"tan\",\"ate\",\"nat\",\"bat\"]))"
      ],
      "metadata": {
        "id": "_g2OSRGkDK82",
        "colab": {
          "base_uri": "https://localhost:8080/"
        },
        "outputId": "47138bc9-1498-4e47-abea-df294ad46d10"
      },
      "execution_count": null,
      "outputs": [
        {
          "output_type": "stream",
          "name": "stdout",
          "text": [
            "[['eat', 'tea', 'ate'], ['tan', 'nat'], ['bat']]\n"
          ]
        }
      ]
    },
    {
      "cell_type": "code",
      "source": [],
      "metadata": {
        "id": "ehNg46PdeCXL"
      },
      "execution_count": null,
      "outputs": []
    },
    {
      "cell_type": "code",
      "source": [],
      "metadata": {
        "id": "mDk47DYsDLsV"
      },
      "execution_count": null,
      "outputs": []
    },
    {
      "cell_type": "code",
      "source": [
        "# video 11\n",
        "class Solution8:\n",
        "  \"\"\"\n",
        "  [[1,2,3],\n",
        "   [4,5,6],\n",
        "   [7,8,9]]\n",
        "  \"\"\"\n",
        "  def spiral_order(self, matrix: list[list[int]]) -> list[int]:\n",
        "    if not matrix:\n",
        "      return []\n",
        "    row_begin = 0\n",
        "    row_end = len(matrix)\n",
        "    column_begin = 0\n",
        "    column_end = len(matrix[0])\n",
        "    res = []\n",
        "\n",
        "    while row_end > row_begin and column_end > column_begin:\n",
        "      # Step 1: Left to right on top row (row_begin = 0)\n",
        "      # Adds: 1,2,3\n",
        "      for i in range(column_begin, column_end):# 0 to 3\n",
        "        res.append(matrix[row_begin][i])\n",
        "\n",
        "      # Step 2: Top to bottom on right column (column_end-1 = 2)\n",
        "      # Adds: 6\n",
        "      for j in range(row_begin + 1, row_end - 1):\n",
        "        res.append(matrix[j][column_end -1])\n",
        "\n",
        "      if row_end != row_begin + 1:\n",
        "        # Step 3: Right to left on bottom row (row_end-1 = 2)\n",
        "        # Adds: 9,8,7\n",
        "        for i in range(column_end -1, column_begin -1, -1):\n",
        "          res.append(matrix[row_end - 1][i])\n",
        "\n",
        "      if column_begin != column_end - 1:\n",
        "        # Step 4: Bottom to top on left column (column_begin = 0)\n",
        "        # Adds: 4\n",
        "        for j in range(row_end - 2, row_begin, -1):\n",
        "          res.append(matrix[j][column_begin])\n",
        "      row_begin += 1\n",
        "      row_end -= 1\n",
        "      column_begin += 1\n",
        "      column_end -= 1\n",
        "    return res\n",
        "\n",
        "try8 = Solution8()\n",
        "# Define the matrix here\n",
        "matrix = [[1,2,3],[4,5,6],[7,8,9]]\n",
        "print(try8.spiral_order(matrix))\n",
        "#print(len(matrix))"
      ],
      "metadata": {
        "colab": {
          "base_uri": "https://localhost:8080/"
        },
        "id": "I20_s-G61szx",
        "outputId": "3d624c75-1b40-4f31-b28b-d3db610b3a50"
      },
      "execution_count": null,
      "outputs": [
        {
          "output_type": "stream",
          "name": "stdout",
          "text": [
            "[1, 2, 3, 6, 9, 8, 7, 4, 5]\n"
          ]
        }
      ]
    },
    {
      "cell_type": "code",
      "source": [],
      "metadata": {
        "id": "b5L0L2EM9u-L"
      },
      "execution_count": null,
      "outputs": []
    },
    {
      "cell_type": "code",
      "source": [],
      "metadata": {
        "id": "3UGF7D0q1tmJ"
      },
      "execution_count": null,
      "outputs": []
    },
    {
      "cell_type": "code",
      "source": [
        "# Video 10\n",
        "class TreeNode:\n",
        "  def __init__(self, val=0, left=None, right=None):\n",
        "    self.val = val\n",
        "    self.left = left\n",
        "    self.right = right\n",
        "\n",
        "class Solution7:\n",
        "  def is_subtree(self, s: TreeNode, t: TreeNode) -> bool:\n",
        "    if s is None and t is None:\n",
        "      return True\n",
        "    if t is None:\n",
        "      return True\n",
        "    if s is None and t is not None:\n",
        "      return False\n",
        "    return self.is_same(s, t) or self.is_subtree(s.left, t)\\\n",
        "     or self.is_subtree(s.right, t)\n",
        "\n",
        "  def is_same(self, s, t):\n",
        "    if s is None and t is None:\n",
        "      return True\n",
        "    if s is None or t is None:\n",
        "      return False\n",
        "    return s.val == t.val and self.is_same(s.left, t.left)\\\n",
        "     and self.is_same(s.right, t.right)\n",
        "\n",
        "try7 = Solution7()\n",
        "s = TreeNode(3)\n",
        "s.left = TreeNode(4)\n",
        "s.right = TreeNode(5)\n",
        "s.left.left = TreeNode(1)\n",
        "s.left.right = TreeNode(2)\n",
        "t = TreeNode(4)\n",
        "t.left = TreeNode(1)\n",
        "t.right = TreeNode(2)\n",
        "print(try7.is_subtree(s, t))"
      ],
      "metadata": {
        "id": "BWzDB-KUjQ3O",
        "colab": {
          "base_uri": "https://localhost:8080/"
        },
        "outputId": "bcca8608-867d-4f59-e2bb-15d669f0d8ae"
      },
      "execution_count": null,
      "outputs": [
        {
          "output_type": "stream",
          "name": "stdout",
          "text": [
            "True\n"
          ]
        }
      ]
    },
    {
      "cell_type": "code",
      "source": [],
      "metadata": {
        "id": "uYzMDCkvylgA"
      },
      "execution_count": null,
      "outputs": []
    },
    {
      "cell_type": "code",
      "source": [],
      "metadata": {
        "id": "6BdHyDquyh0G"
      },
      "execution_count": null,
      "outputs": []
    },
    {
      "cell_type": "code",
      "source": [
        "# video 9\n",
        "class Solution6:\n",
        "  def longest_common_prefix(self, strs: list[str]) -> str:\n",
        "\n",
        "    if len(strs) == 0:\n",
        "      return \"\"\n",
        "    minlen = len(strs[0])\n",
        "    for i in range(len(strs)):\n",
        "      minlen = min(len(strs[i]), minlen)\n",
        "\n",
        "    lcp = \"\"\n",
        "    i = 0\n",
        "    while i < minlen:\n",
        "      char = strs[0][i]\n",
        "      for j in range(1, len(strs)):\n",
        "        if strs[j][i] != char:\n",
        "          return lcp\n",
        "      lcp += char\n",
        "      i += 1\n",
        "    return lcp\n",
        "\n",
        "try6 = Solution6()\n",
        "#print(try6.longest_common_prefix([\"flower\",\"flow\",\"flight\", \"float\"]))\n",
        "print(try6.longest_common_prefix([\"compute\",\"computer\",\"computing\"]))"
      ],
      "metadata": {
        "colab": {
          "base_uri": "https://localhost:8080/"
        },
        "id": "-mqtgCV3W__0",
        "outputId": "8428446b-d012-4c06-bcc9-44025b532279"
      },
      "execution_count": null,
      "outputs": [
        {
          "output_type": "stream",
          "name": "stdout",
          "text": [
            "comput\n"
          ]
        }
      ]
    },
    {
      "cell_type": "code",
      "source": [],
      "metadata": {
        "id": "iUuQMMKSyg4n"
      },
      "execution_count": null,
      "outputs": []
    },
    {
      "cell_type": "code",
      "source": [],
      "metadata": {
        "id": "GkLs_-buyg8l"
      },
      "execution_count": null,
      "outputs": []
    },
    {
      "cell_type": "code",
      "source": [
        "# video 8\n",
        "class Solution5:\n",
        "  def three_sum_closest(self, nums: list[int], target: int) -> int:\n",
        "    nums.sort()\n",
        "    res = sum(nums[:3])\n",
        "    for i in range(len(nums) - 2):\n",
        "      s = i + 1\n",
        "      e = len(nums) - 1\n",
        "      while s < e:\n",
        "        sumhere = nums[i] + nums[s] + nums[e]\n",
        "        if abs(sumhere - target) < abs( res - target):\n",
        "          res = sumhere\n",
        "        if sumhere < target:\n",
        "          s += 1\n",
        "        else:\n",
        "          e -= 1\n",
        "    return res\n",
        "try5 = Solution5()\n",
        "#print(try5.three_sum_closest([-1,2,1,-4], 1))\n",
        "print(try5.three_sum_closest([1,1,1], 3))"
      ],
      "metadata": {
        "colab": {
          "base_uri": "https://localhost:8080/"
        },
        "id": "oW5xjAessaFI",
        "outputId": "e0343629-563f-4e72-b171-d36eef4aab4c"
      },
      "execution_count": null,
      "outputs": [
        {
          "output_type": "stream",
          "name": "stdout",
          "text": [
            "3\n"
          ]
        }
      ]
    },
    {
      "cell_type": "code",
      "source": [],
      "metadata": {
        "id": "TpXn8ZPqoWkw"
      },
      "execution_count": null,
      "outputs": []
    },
    {
      "cell_type": "code",
      "source": [],
      "metadata": {
        "id": "iwbjLIl-jRoN"
      },
      "execution_count": null,
      "outputs": []
    },
    {
      "cell_type": "code",
      "source": [
        "class Solution4:\n",
        "  def max_sub_array(self, nums: list[int]) -> int:\n",
        "    total_sum = max_sum = nums[0]\n",
        "    for i in nums[1:]:\n",
        "      total_sum = max(i, total_sum + i)\n",
        "      max_sum = max(max_sum, total_sum)\n",
        "    return max_sum\n",
        "\n",
        "try4 = Solution4()\n",
        "print(try4.max_sub_array([-2,1,-3,4,-1,2,1,-5,4]))"
      ],
      "metadata": {
        "colab": {
          "base_uri": "https://localhost:8080/"
        },
        "id": "_j89mBo3l8-N",
        "outputId": "1ec8a0d2-cd73-4496-c38c-5a92da4f79cf"
      },
      "execution_count": null,
      "outputs": [
        {
          "output_type": "stream",
          "name": "stdout",
          "text": [
            "6\n"
          ]
        }
      ]
    },
    {
      "cell_type": "code",
      "source": [],
      "metadata": {
        "id": "9D5wJn6Lixj4"
      },
      "execution_count": null,
      "outputs": []
    },
    {
      "cell_type": "code",
      "source": [],
      "metadata": {
        "id": "HI2HPwTpDokA"
      },
      "execution_count": null,
      "outputs": []
    },
    {
      "cell_type": "code",
      "source": [
        "class Solution3:\n",
        "    \"\"\"\n",
        "    list1 = [\"let1 art can\"]\n",
        "    print(list1[0].split()[1:])\n",
        "    ['art', 'can']\n",
        "    print(list1[0].split()[0])\n",
        "    let1\n",
        "    \"\"\"\n",
        "    def reorder_log_files(self, logs: list[str]) -> list[str]:\n",
        "        letter_logs = []\n",
        "        digit_logs = []\n",
        "\n",
        "        for log in logs:\n",
        "            if log.split()[1].isdigit():\n",
        "                digit_logs.append(log)  # Digit-log\n",
        "            else:\n",
        "                letter_logs.append(log)  # Letter-log\n",
        "\n",
        "        # Sort letter logs: first by content, then by identifier\n",
        "        letter_logs.sort(key=lambda log: (log.split()[1:], log.split()[0]))\n",
        "\n",
        "        # Combine the letter and digit logs\n",
        "        return letter_logs + digit_logs\n",
        "\n",
        "try3 = Solution3()\n",
        "print(try3.reorder_log_files([\"dig1 8 1 5 1\",\"let1 art can\",\"dig2 3 6\",\"let2 own kit dig\",\"let3 art zero\", \"let4 art d\"]))"
      ],
      "metadata": {
        "colab": {
          "base_uri": "https://localhost:8080/"
        },
        "id": "khkYY08G9bo7",
        "outputId": "4fb18951-8e37-4f68-9476-337abffef1fc"
      },
      "execution_count": null,
      "outputs": [
        {
          "output_type": "stream",
          "name": "stdout",
          "text": [
            "['let1 art can', 'let4 art d', 'let3 art zero', 'let2 own kit dig', 'dig1 8 1 5 1', 'dig2 3 6']\n"
          ]
        }
      ]
    },
    {
      "cell_type": "code",
      "source": [],
      "metadata": {
        "id": "b17JqMdaAPDf"
      },
      "execution_count": null,
      "outputs": []
    },
    {
      "cell_type": "code",
      "source": [],
      "metadata": {
        "id": "_-Rt2hMpxsqB"
      },
      "execution_count": null,
      "outputs": []
    },
    {
      "cell_type": "code",
      "source": [
        "class Solution2:\n",
        "  def roman_to_int(self, s:str) -> int:\n",
        "    \"\"\" \"IX\":\n",
        "    I: CURRENT 1, PREVIOUS 0: 0 + 1 - 2*0 = 1\n",
        "    X: current 10, previous 1: 1 + 10 - 2*1 = 9\n",
        "    \"\"\"\n",
        "    roman_numbers = {\"I\":1,\"V\":5, \"X\":10, \"L\":50, \"C\":100, \"D\":500, \"M\":1000}\n",
        "    total = 0\n",
        "    curr = 0\n",
        "    prev = 0\n",
        "    for i in range(len(s)):\n",
        "      curr = roman_numbers[s[i]]\n",
        "      if curr > prev:\n",
        "        total = total + curr - 2*prev\n",
        "      else:\n",
        "        total += curr\n",
        "      prev = curr\n",
        "    return total\n",
        "\n",
        "try2 = Solution2()\n",
        "print(try2.roman_to_int(\"IX\"))"
      ],
      "metadata": {
        "colab": {
          "base_uri": "https://localhost:8080/"
        },
        "id": "Sckz8uiVnhR5",
        "outputId": "afe43949-8f6f-4a5f-d9ce-9b10b43d0ea3"
      },
      "execution_count": null,
      "outputs": [
        {
          "output_type": "stream",
          "name": "stdout",
          "text": [
            "9\n"
          ]
        }
      ]
    },
    {
      "cell_type": "code",
      "source": [],
      "metadata": {
        "id": "7uzvwdkn2Ivy"
      },
      "execution_count": null,
      "outputs": []
    },
    {
      "cell_type": "code",
      "source": [],
      "metadata": {
        "id": "y8KdJfdjWA1W"
      },
      "execution_count": null,
      "outputs": []
    },
    {
      "cell_type": "code",
      "source": [
        "# video 4\n",
        "class Solution1:\n",
        "  def subarraySum(self, nums: list[int], k: int) -> int:\n",
        "    sumdict = {0:1}\n",
        "    n = len(nums)\n",
        "    count = 0\n",
        "    sum = 0\n",
        "    for num in nums:\n",
        "      sum += num\n",
        "      if sum-k in sumdict:\n",
        "        count += sumdict[sum-k]\n",
        "      if sum in sumdict:\n",
        "        sumdict[sum] += 1\n",
        "      else:\n",
        "        sumdict[sum] = 1\n",
        "    return count\n",
        "sum = Solution1()\n",
        "print(sum.subarraySum([1,1,1,1,1,1], 3))"
      ],
      "metadata": {
        "colab": {
          "base_uri": "https://localhost:8080/"
        },
        "id": "d8RxDY5yVIWf",
        "outputId": "62eb49a0-f761-487d-9d4f-945e5f6b6d1a"
      },
      "execution_count": null,
      "outputs": [
        {
          "output_type": "stream",
          "name": "stdout",
          "text": [
            "4\n"
          ]
        }
      ]
    },
    {
      "cell_type": "code",
      "source": [],
      "metadata": {
        "id": "X5HKOb2j2KAJ"
      },
      "execution_count": null,
      "outputs": []
    },
    {
      "cell_type": "code",
      "source": [],
      "metadata": {
        "id": "GpzGd1IfV_x4"
      },
      "execution_count": null,
      "outputs": []
    },
    {
      "cell_type": "code",
      "source": [
        "class Solution:\n",
        "  def myAtoi(self, str: str) -> int:\n",
        "    str = str.strip()\n",
        "    if not str:\n",
        "      return 0\n",
        "    negative = False\n",
        "    out = 0\n",
        "\n",
        "    if str[0] == '-':\n",
        "      negative = True\n",
        "    elif str[0] == '+':\n",
        "      negative = False\n",
        "    elif not str[0].isnumeric:\n",
        "      return 0\n",
        "    else:\n",
        "      # ord(\"0\") = 48\n",
        "      out = ord(str[0]) - ord(\"0\")\n",
        "    for i in range(1, len(str)):\n",
        "      if str[i].isnumeric():\n",
        "        out = out*10 + (ord(str[i]) - ord(\"0\"))\n",
        "        if not negative and out >= 2147483647:\n",
        "          return 2147483647\n",
        "        if negative and out >= 2147483648:\n",
        "          return -2145483648\n",
        "      else:\n",
        "        break\n",
        "    if not negative:\n",
        "      return out\n",
        "    else:\n",
        "      return -out\n",
        "\n",
        "try1 = Solution()\n",
        "#print(try1.myAtoi(\"42\"))\n",
        "#print(try1.myAtoi(\"   -42\"))\n",
        "#print(try1.myAtoi(\"4193 with words\"))\n",
        "print(try1.myAtoi(\"S\"))"
      ],
      "metadata": {
        "colab": {
          "base_uri": "https://localhost:8080/"
        },
        "id": "k3PozR4NrSwI",
        "outputId": "79e05b25-bff9-4bda-a704-a0d2581a2556"
      },
      "execution_count": null,
      "outputs": [
        {
          "output_type": "stream",
          "name": "stdout",
          "text": [
            "35\n"
          ]
        }
      ]
    },
    {
      "cell_type": "code",
      "source": [],
      "metadata": {
        "id": "MkGJQ5dTw2nR"
      },
      "execution_count": null,
      "outputs": []
    },
    {
      "cell_type": "code",
      "source": [],
      "metadata": {
        "id": "Jwpry8oW2Ksi"
      },
      "execution_count": null,
      "outputs": []
    },
    {
      "cell_type": "code",
      "source": [],
      "metadata": {
        "id": "aWHFTThlYpec"
      },
      "execution_count": null,
      "outputs": []
    },
    {
      "cell_type": "markdown",
      "source": [
        "# VIDEOS OVER 20 MINUTES"
      ],
      "metadata": {
        "id": "8HaY6U5WeXtY"
      }
    },
    {
      "cell_type": "code",
      "source": [
        "# video 113\n",
        "class Solution113:\n",
        "  def is_valid(self, s: str) -> bool:\n",
        "    stack = []\n",
        "    close_to_open = { \")\": \"(\", \"]\": \"[\", \"}\": \"{\"}\n",
        "\n",
        "    for c in s:\n",
        "      if c in close_to_open:\n",
        "        if stack and stack[-1] == close_to_open[c]:\n",
        "          stack.pop()\n",
        "        else:\n",
        "          return False\n",
        "      else:\n",
        "        stack.append(c)\n",
        "    return True if not stack else False\n",
        "\n",
        "try113 = Solution113()\n",
        "print(try113.is_valid(\"[()]\"))"
      ],
      "metadata": {
        "colab": {
          "base_uri": "https://localhost:8080/"
        },
        "id": "tXPS-FKbeWMS",
        "outputId": "a75037b8-2cd4-44bb-8e55-a32c327aefa4"
      },
      "execution_count": null,
      "outputs": [
        {
          "output_type": "stream",
          "name": "stdout",
          "text": [
            "True\n"
          ]
        }
      ]
    },
    {
      "cell_type": "code",
      "source": [],
      "metadata": {
        "id": "L68MmWE9uL8b"
      },
      "execution_count": null,
      "outputs": []
    },
    {
      "cell_type": "code",
      "source": [],
      "metadata": {
        "id": "RmnxaPvreXUP"
      },
      "execution_count": null,
      "outputs": []
    },
    {
      "cell_type": "code",
      "source": [
        "# video 86\n",
        "class Solution86:\n",
        "  def find_cheapest_price(self, n: int, flights: list[list[int]], src: int, dst: int, k: int) -> int:\n",
        "    prices = [float('inf')] * n\n",
        "    prices[src] = 0\n",
        "    for i in range(k + 1):\n",
        "        tmp_prices = prices.copy()\n",
        "\n",
        "        for s, d, p in flights:\n",
        "          if prices[s] == float('inf'):\n",
        "            continue\n",
        "          if prices[s] + p < tmp_prices[d]:\n",
        "            tmp_prices[d] = prices[s] + p\n",
        "        prices = tmp_prices\n",
        "\n",
        "    return -1 if prices[dst] == float('inf') else prices[dst]\n",
        "\n",
        "# Define the number of nodes\n",
        "n = 3\n",
        "\n",
        "# Define the flights\n",
        "flights = [\n",
        "    [0, 1, 100],  # Flight from node 0 to node 1 with price 100\n",
        "    [1, 2, 100],  # Flight from node 1 to node 2 with price 100\n",
        "    [0, 2, 500]   # Direct flight from node 0 to node 2 with price 500\n",
        "]\n",
        "\n",
        "# Define the source node\n",
        "src = 0\n",
        "\n",
        "# Define the destination node\n",
        "dst = 2\n",
        "\n",
        "# Define the maximum number of stops\n",
        "k = 1\n",
        "\n",
        "# Create an instance of Solution86\n",
        "try86 = Solution86()\n",
        "\n",
        "# Call the find_cheapest_price method\n",
        "cheapest_price = try86.find_cheapest_price(n, flights, src, dst, k)\n",
        "\n",
        "# Print the result\n",
        "print(cheapest_price)  # Expected output: 200"
      ],
      "metadata": {
        "id": "hQaeUTYdYoKc",
        "colab": {
          "base_uri": "https://localhost:8080/"
        },
        "outputId": "7583965d-9594-4275-dd0e-a4e1354aefc3"
      },
      "execution_count": null,
      "outputs": [
        {
          "output_type": "stream",
          "name": "stdout",
          "text": [
            "200\n"
          ]
        }
      ]
    },
    {
      "cell_type": "code",
      "source": [],
      "metadata": {
        "id": "oZEgvQpe83r6"
      },
      "execution_count": null,
      "outputs": []
    },
    {
      "cell_type": "markdown",
      "source": [
        "# FREECODECAMP"
      ],
      "metadata": {
        "id": "EQqIfvgS2DLU"
      }
    },
    {
      "cell_type": "markdown",
      "source": [
        "Links\n",
        "\n",
        "Enlaces\n",
        "https://www.freecodecamp.org/news/python-coding-challenges-for-beginners/"
      ],
      "metadata": {
        "id": "7PoKv6dSel3Z"
      }
    },
    {
      "cell_type": "code",
      "execution_count": null,
      "metadata": {
        "id": "6J5L4owBd6M7"
      },
      "outputs": [],
      "source": []
    },
    {
      "cell_type": "code",
      "source": [
        "lista1 = [6, 7, 8, 9, 10]\n",
        "lista2 = [6, 10, 3, 1]\n",
        "def is_sorted(lst):\n",
        "  asc, desc = True, True\n",
        "  for i in range(len(lst) - 1):\n",
        "    if lst[i] > lst[i + 1]:\n",
        "      asc = False\n",
        "  for i in range(len(lst) - 1):\n",
        "    if lst[i] < lst[i + 1]:\n",
        "      desc = False\n",
        "  return asc or desc\n",
        "# lista1 is asc or des TRUE\n",
        "print(is_sorted(lista1))\n",
        "print(is_sorted(lista2))"
      ],
      "metadata": {
        "colab": {
          "base_uri": "https://localhost:8080/"
        },
        "id": "_uscN2lZd--b",
        "outputId": "1d0e3eae-eb39-487f-90e3-35f81af605ce"
      },
      "execution_count": null,
      "outputs": [
        {
          "output_type": "stream",
          "name": "stdout",
          "text": [
            "True\n",
            "False\n"
          ]
        }
      ]
    },
    {
      "cell_type": "code",
      "source": [
        "def binary_to_decimal(binary):\n",
        "  decimal, i = 0,0\n",
        "  while(binary != 0):\n",
        "    dec = binary % 10\n",
        "    decimal = decimal + dec * pow(2, i)\n",
        "    binary = binary//10\n",
        "    i += 1\n",
        "  return decimal\n",
        "\n",
        "binary = int(input(\"Enter a binary number: \"))\n",
        "print(f\"{binary} in decimal is: {binary_to_decimal(binary)}\")"
      ],
      "metadata": {
        "colab": {
          "base_uri": "https://localhost:8080/"
        },
        "id": "wMnUjk6bihVy",
        "outputId": "9afcc55e-f380-4f3f-8cfe-429d93020184"
      },
      "execution_count": null,
      "outputs": [
        {
          "output_type": "stream",
          "name": "stdout",
          "text": [
            "Enter a binary number: 111\n",
            "111 in decimal is: 7\n"
          ]
        }
      ]
    },
    {
      "cell_type": "code",
      "source": [],
      "metadata": {
        "id": "g0e8XzRjuG4S"
      },
      "execution_count": null,
      "outputs": []
    },
    {
      "cell_type": "code",
      "source": [
        "def phrase_loves_me_not(n):\n",
        "    phrases = []\n",
        "    for i in range(1,n+1):\n",
        "        if i % 2 != 0:\n",
        "            phrases.append(\"Me quiere\")\n",
        "        else:\n",
        "            phrases.append(\"No me quiere\")\n",
        "    return \", \".join(phrases)\n",
        "\n",
        "print(phrase_loves_me_not(7))"
      ],
      "metadata": {
        "colab": {
          "base_uri": "https://localhost:8080/"
        },
        "id": "jbHig-AJiiUz",
        "outputId": "0b9fc4bf-8c26-460a-ac79-1ca9096d8e56"
      },
      "execution_count": null,
      "outputs": [
        {
          "output_type": "stream",
          "name": "stdout",
          "text": [
            "Me quiere, No me quiere, Me quiere, No me quiere, Me quiere, No me quiere, Me quiere\n"
          ]
        }
      ]
    },
    {
      "cell_type": "code",
      "source": [],
      "metadata": {
        "id": "gPJpbAJEZJFL"
      },
      "execution_count": null,
      "outputs": []
    },
    {
      "cell_type": "code",
      "source": [
        "def mask_credit_card(card_number):\n",
        "  card=str(card_number)\n",
        "  return \"*\"*(len(card) - 4) + (card[-4:])\n",
        "\n",
        "print(mask_credit_card(1234123456785678))"
      ],
      "metadata": {
        "id": "jhTziyTywP01",
        "colab": {
          "base_uri": "https://localhost:8080/"
        },
        "outputId": "22988f1d-1385-45b4-c73a-2639187c2a9e"
      },
      "execution_count": null,
      "outputs": [
        {
          "output_type": "stream",
          "name": "stdout",
          "text": [
            "************5678\n"
          ]
        }
      ]
    },
    {
      "cell_type": "code",
      "source": [],
      "metadata": {
        "id": "AnUvx6Nic61M"
      },
      "execution_count": null,
      "outputs": []
    },
    {
      "cell_type": "code",
      "source": [
        "def to_spongecase(text):\n",
        "  result = []\n",
        "  i = 0\n",
        "  for char in text:\n",
        "    if char.isalpha():\n",
        "        if i % 2 == 0:\n",
        "          result.append(char.lower())\n",
        "        else:\n",
        "          result.append(char.upper())\n",
        "        i += 1\n",
        "    else:\n",
        "      result.append(char)\n",
        "\n",
        "  return \"\".join(result)\n",
        "\n",
        "to_spongecase(\"Hello World in which S and D become SD Analytics\")"
      ],
      "metadata": {
        "colab": {
          "base_uri": "https://localhost:8080/",
          "height": 36
        },
        "id": "46mP6RqFciie",
        "outputId": "e3541813-6c88-4553-b2c0-0e02f676fd24"
      },
      "execution_count": null,
      "outputs": [
        {
          "output_type": "execute_result",
          "data": {
            "text/plain": [
              "'hElLo WoRlD iN wHiCh S aNd D bEcOmE sD aNaLyTiCs'"
            ],
            "application/vnd.google.colaboratory.intrinsic+json": {
              "type": "string"
            }
          },
          "metadata": {},
          "execution_count": 13
        }
      ]
    },
    {
      "cell_type": "code",
      "source": [],
      "metadata": {
        "id": "bggnPLQhFV1r"
      },
      "execution_count": null,
      "outputs": []
    },
    {
      "cell_type": "code",
      "source": [],
      "metadata": {
        "id": "1Qlk7vKaGHo4"
      },
      "execution_count": null,
      "outputs": []
    },
    {
      "cell_type": "code",
      "source": [
        "def caesar_encryption(text, shift):\n",
        "  result = \"\"\n",
        "  for char in text:\n",
        "    if char.isalpha():\n",
        "      start = ord('A') if char.isupper() else ord('a')\n",
        "      shifted = (ord(char) - start + shift) % 26 + start\n",
        "      result += chr(shifted)\n",
        "    else:\n",
        "      result += char\n",
        "  return result\n",
        "\n",
        "print(caesar_encryption(\"Hello World\", 3))"
      ],
      "metadata": {
        "colab": {
          "base_uri": "https://localhost:8080/"
        },
        "id": "fJCG2yoZExCq",
        "outputId": "a992efa4-bd33-4004-a242-f8b53da4f5de"
      },
      "execution_count": null,
      "outputs": [
        {
          "output_type": "stream",
          "name": "stdout",
          "text": [
            "Khoor Zruog\n"
          ]
        }
      ]
    },
    {
      "cell_type": "code",
      "source": [],
      "metadata": {
        "id": "ln-FdWYRGHw_"
      },
      "execution_count": null,
      "outputs": []
    },
    {
      "cell_type": "code",
      "source": [],
      "metadata": {
        "id": "szBiVZPGTxhn"
      },
      "execution_count": null,
      "outputs": []
    },
    {
      "cell_type": "code",
      "source": [
        "def is_product_divisible_by_sum(numbers):\n",
        "  \"\"\"\n",
        "  print(is_product_divisible_by_sum([1, 0, 4]))  # Output: True\n",
        "  product % summation is 0 % 5, which equals 0.\n",
        "  Since 0 % 5 == 0 is True, the function returns True.\n",
        "  print(is_product_divisible_by_sum([0, 0, 0]))  # Output: False (sum is zero)\n",
        "  print(is_product_divisible_by_sum([]))         # Output: False (empty list)\n",
        "  \"\"\"\n",
        "  if not numbers:\n",
        "    return False\n",
        "\n",
        "  product = 1\n",
        "  summation = 0\n",
        "  for num in numbers:\n",
        "    product *= num\n",
        "    summation += num\n",
        "\n",
        "  if summation == 0:\n",
        "    return False\n",
        "  return product % summation == 0\n",
        "\n",
        "print(is_product_divisible_by_sum([0,0,0]))"
      ],
      "metadata": {
        "colab": {
          "base_uri": "https://localhost:8080/"
        },
        "id": "1AioAdqdTyaV",
        "outputId": "317e425e-e63f-4ae0-ea3a-f7c1583a4c94"
      },
      "execution_count": null,
      "outputs": [
        {
          "output_type": "stream",
          "name": "stdout",
          "text": [
            "False\n"
          ]
        }
      ]
    },
    {
      "cell_type": "markdown",
      "source": [
        "# Dynamic Programming 1D - Full Course - Python"
      ],
      "metadata": {
        "id": "3Sd8zcZ0ZY5I"
      }
    },
    {
      "cell_type": "markdown",
      "source": [
        "https://www.youtube.com/watch?v=_i4Yxeh5ceQ  \n",
        "\n",
        "sd\n"
      ],
      "metadata": {
        "id": "g-oUik7HZhYN"
      }
    },
    {
      "cell_type": "code",
      "source": [
        "import unittest\n",
        "class Rob:\n",
        "    def rob(self, nums: list[int]) -> int:\n",
        "        rob1, rob2 = 0, 0\n",
        "\n",
        "        for n in nums:\n",
        "            temp = max(n + rob1, rob2)\n",
        "            rob1 = rob2\n",
        "            rob2 = temp\n",
        "        return rob2\n",
        "\n",
        "class TestRob(unittest.TestCase):\n",
        "    def test_rob(self):\n",
        "        rob = Rob()\n",
        "        self.assertEqual(rob.rob([1,2,3,1]), 4)\n",
        "        print('Success : test_rob')\n",
        "\n",
        "def main():\n",
        "    test = TestRob()\n",
        "    test.test_rob()\n",
        "\n",
        "if __name__ == '__main__':\n",
        "    main()"
      ],
      "metadata": {
        "id": "sk9c6xt-U-jQ",
        "colab": {
          "base_uri": "https://localhost:8080/"
        },
        "outputId": "fd29b359-2be7-4144-cbb6-f194d8c6d423"
      },
      "execution_count": null,
      "outputs": [
        {
          "output_type": "stream",
          "name": "stdout",
          "text": [
            "Success : test_rob\n"
          ]
        }
      ]
    },
    {
      "cell_type": "code",
      "source": [
        "# 58:18 house robber 2\n",
        "class Rob2:\n",
        "    def rob2(self, nums: list[int])-> int:\n",
        "        return max(nums[0], self.helper(nums[1:]), self.helper(nums[:-1]))\n",
        "\n",
        "    def helper(self, nums):\n",
        "        rob1, rob2 = 0, 0\n",
        "        for n in nums:\n",
        "            newRob= max(rob1 + n, rob2)\n",
        "            rob1 = rob2\n",
        "            rob2 = newRob\n",
        "        return rob2\n",
        "rob2 = Rob2()\n",
        "print(rob2.rob2([2,7,9,3,1]))"
      ],
      "metadata": {
        "id": "7el1rml7Zooo",
        "colab": {
          "base_uri": "https://localhost:8080/"
        },
        "outputId": "871d1afb-3432-4dad-d414-69dd51607757"
      },
      "execution_count": null,
      "outputs": [
        {
          "output_type": "stream",
          "name": "stdout",
          "text": [
            "11\n"
          ]
        }
      ]
    },
    {
      "cell_type": "code",
      "source": [
        "def factorial(n):\n",
        "    if n == 1:\n",
        "        return 1\n",
        "    else:\n",
        "        return n * factorial(n-1)\n",
        "factorial(5)"
      ],
      "metadata": {
        "colab": {
          "base_uri": "https://localhost:8080/"
        },
        "id": "qsgH3iTlsRHO",
        "outputId": "b1322c4e-f8dc-4591-9546-8082cb36abcd"
      },
      "execution_count": null,
      "outputs": [
        {
          "output_type": "execute_result",
          "data": {
            "text/plain": [
              "120"
            ]
          },
          "metadata": {},
          "execution_count": 4
        }
      ]
    },
    {
      "cell_type": "code",
      "source": [
        "class NumDecod:\n",
        "    def num_decod(self, s: str) -> int:\n",
        "        dp = {len(s): 1}\n",
        "        def dfs(i):\n",
        "            if i in dp:\n",
        "                return dp[i]\n",
        "            if s[i] == \"0\":\n",
        "                return 0\n",
        "            res = dfs(i + 1)\n",
        "            if (i + 1 < len(s) and (s[i] == \"1\" or s[i] == \"2\" and s[i + 1] in \"0123456\")):\n",
        "                res += dfs(i + 2)\n",
        "            dp[i] = res\n",
        "            return res\n",
        "        return dfs(0)\n",
        "\n",
        "num_decod = NumDecod()\n",
        "print(num_decod.num_decod(\"123\"))"
      ],
      "metadata": {
        "id": "Mcfwp1qIz_FX",
        "colab": {
          "base_uri": "https://localhost:8080/"
        },
        "outputId": "4d73cc18-7501-4fc8-c25c-862f8f24302d"
      },
      "execution_count": null,
      "outputs": [
        {
          "output_type": "stream",
          "name": "stdout",
          "text": [
            "3\n"
          ]
        }
      ]
    },
    {
      "cell_type": "code",
      "source": [
        "# 1:55:55\n",
        "class CoinChange:\n",
        "    def coin_change(self, coins: list[int], amount: int) -> int:\n",
        "        dp = [amount + 1] * (amount + 1)\n",
        "        dp[0] = 0\n",
        "        for a in range(1, amount + 1):\n",
        "            for c in coins:\n",
        "                if a - c >= 0:\n",
        "                    dp[a] = min(dp[a], 1 + dp[a - c])\n",
        "        return dp[amount] if dp[amount] != amount + 1 else -1\n",
        "\n",
        "coin_change = CoinChange()\n",
        "print(coin_change.coin_change([1,2,5,6,7], 11))"
      ],
      "metadata": {
        "colab": {
          "base_uri": "https://localhost:8080/"
        },
        "id": "oo-BO2gmHeJm",
        "outputId": "1f03c788-6fe3-4f68-dbe8-159499cd1c15"
      },
      "execution_count": null,
      "outputs": [
        {
          "output_type": "stream",
          "name": "stdout",
          "text": [
            "2\n"
          ]
        }
      ]
    },
    {
      "cell_type": "code",
      "source": [
        "# 2:10:52\n",
        "class MaxProduct:\n",
        "    def max_product(self, nums: list[int]) -> int:\n",
        "        res = max(nums)\n",
        "        curMin, curMax = 1, 1\n",
        "        for n in nums:\n",
        "            if n == 0:\n",
        "                curMin, curMax = 1, 1\n",
        "                continue\n",
        "            tmp = curMax * n\n",
        "            curMax = max(n * curMax, n * curMin, n)\n",
        "            curMin = min( tmp, n * curMin, n)\n",
        "            res = max(res, curMax)\n",
        "        return res\n",
        "max_product = MaxProduct()\n",
        "print(max_product.max_product([2,3,4,-2,4]))"
      ],
      "metadata": {
        "id": "K3LO8Vq6Zosn",
        "colab": {
          "base_uri": "https://localhost:8080/"
        },
        "outputId": "f0a64439-a138-467f-9ad2-0279cb8e756c"
      },
      "execution_count": null,
      "outputs": [
        {
          "output_type": "stream",
          "name": "stdout",
          "text": [
            "24\n"
          ]
        }
      ]
    },
    {
      "cell_type": "code",
      "source": [
        "# 2:26:57\n",
        "class WordBreak:\n",
        "    def word_break(self, s: str, wordDict: list[str]) -> bool:\n",
        "        dp = [False] * (len(s) + 1)\n",
        "        dp[len(s)] = True\n",
        "        for i in range(len(s)-1, -1, -1):\n",
        "            for w in wordDict:\n",
        "                if (i + len(w)) <= len(s) and s[i : i + len(w)] == w:\n",
        "                    dp[i] = dp[i + len(w)]\n",
        "                if dp[i]:\n",
        "                    break\n",
        "\n",
        "        return dp[0]\n",
        "\n",
        "word_break = WordBreak()\n",
        "print(word_break.word_break(\"leetcode\", [\"leet\",\"code\"]))"
      ],
      "metadata": {
        "colab": {
          "base_uri": "https://localhost:8080/"
        },
        "id": "XLPf6W2F1WqS",
        "outputId": "bdc03f0f-7c79-4f5f-b5d7-8d83d4bdd658"
      },
      "execution_count": null,
      "outputs": [
        {
          "output_type": "stream",
          "name": "stdout",
          "text": [
            "True\n"
          ]
        }
      ]
    },
    {
      "cell_type": "code",
      "source": [
        "# 2:42:53"
      ],
      "metadata": {
        "id": "OHa2qb2_Bd4V"
      },
      "execution_count": null,
      "outputs": []
    },
    {
      "cell_type": "code",
      "source": [],
      "metadata": {
        "id": "NhWMrsGNVWlC"
      },
      "execution_count": null,
      "outputs": []
    },
    {
      "cell_type": "code",
      "source": [],
      "metadata": {
        "id": "rC1mBu0MTydg"
      },
      "execution_count": null,
      "outputs": []
    }
  ]
}